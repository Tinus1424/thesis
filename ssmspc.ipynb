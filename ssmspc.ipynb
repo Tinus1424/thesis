{
 "cells": [
  {
   "cell_type": "code",
   "execution_count": 1,
   "id": "65a365fe-fb60-4404-9813-f173eb55cc2a",
   "metadata": {},
   "outputs": [
    {
     "name": "stderr",
     "output_type": "stream",
     "text": [
      "2024-10-28 16:27:18.518145: I tensorflow/core/util/port.cc:153] oneDNN custom operations are on. You may see slightly different numerical results due to floating-point round-off errors from different computation orders. To turn them off, set the environment variable `TF_ENABLE_ONEDNN_OPTS=0`.\n",
      "2024-10-28 16:27:18.531867: E external/local_xla/xla/stream_executor/cuda/cuda_fft.cc:477] Unable to register cuFFT factory: Attempting to register factory for plugin cuFFT when one has already been registered\n",
      "WARNING: All log messages before absl::InitializeLog() is called are written to STDERR\n",
      "E0000 00:00:1730129238.543581    5348 cuda_dnn.cc:8310] Unable to register cuDNN factory: Attempting to register factory for plugin cuDNN when one has already been registered\n",
      "E0000 00:00:1730129238.547198    5348 cuda_blas.cc:1418] Unable to register cuBLAS factory: Attempting to register factory for plugin cuBLAS when one has already been registered\n",
      "2024-10-28 16:27:18.561303: I tensorflow/core/platform/cpu_feature_guard.cc:210] This TensorFlow binary is optimized to use available CPU instructions in performance-critical operations.\n",
      "To enable the following instructions: AVX2 AVX512F AVX512_VNNI FMA, in other operations, rebuild TensorFlow with the appropriate compiler flags.\n"
     ]
    }
   ],
   "source": [
    "from main import *\n",
    "from sklearn.model_selection import train_test_split\n",
    "\n",
    "import keras\n",
    "import tensorflow as tf\n",
    "from tensorflow.keras import layers, models\n",
    "\n",
    "SHORT = True"
   ]
  },
  {
   "cell_type": "code",
   "execution_count": 2,
   "id": "e22589b8-655d-4e12-8526-8afe99755dae",
   "metadata": {},
   "outputs": [],
   "source": [
    "if SHORT == True:\n",
    "    machines = [\"M01\", \"M02\"]\n",
    "    process_names = [\"OP02\",\"OP07\"]\n",
    "else:\n",
    "    machines = [\"M01\", \"M02\",\"M03\"]\n",
    "    process_names = [\"OP00\",\"OP01\",\"OP02\",\"OP03\",\"OP04\",\"OP05\",\"OP06\",\"OP07\",\"OP08\",\"OP09\",\"OP10\",\"OP11\",\"OP12\",\"OP13\",\"OP14\"]\n",
    "\n",
    "labels = [\"good\",\"bad\"]\n",
    "path_to_dataset = Path(\"./data/\").absolute()\n"
   ]
  },
  {
   "cell_type": "code",
   "execution_count": 3,
   "id": "ed402d95-e1d7-400c-be59-d919b52be198",
   "metadata": {},
   "outputs": [],
   "source": [
    "X_data = []\n",
    "y_data = []\n",
    "\n",
    "for process_name, machine, label in itertools.product(process_names, machines, labels):\n",
    "    data_path = os.path.join(path_to_dataset, machine, process_name, label)\n",
    "    data_list, data_label = data_loader_utils.load_tool_research_data(data_path, label=label, add_additional_label = True, verbose = False)\n",
    "    #concatenating\n",
    "    X_data.extend(data_list)\n",
    "    y_data.extend(data_label)"
   ]
  },
  {
   "cell_type": "code",
   "execution_count": 4,
   "id": "db0c9529-fd8a-46c1-9ec9-b7aac3ada273",
   "metadata": {},
   "outputs": [],
   "source": [
    "X = [x.astype(np.float64) for x in X_data] # Ensure all examples have the same datatype\n",
    "X = np.array([x[:4096, :3] for x in X]) # Select the first 4096 timesteps of all three dimensions for each row\n",
    "y = np.array([0 if id.split(\"_\")[-1] == \"good\" else 1 for id in y_data])"
   ]
  },
  {
   "cell_type": "code",
   "execution_count": 6,
   "id": "10ac3c64-906a-4863-9044-b247855bfca4",
   "metadata": {},
   "outputs": [
    {
     "name": "stdout",
     "output_type": "stream",
     "text": [
      "Processing <function identity at 0x7f5708a540e0> transformations\n",
      "Processing <function cut_paste at 0x7f5708a54180> transformations\n",
      "Processing <function mean_shift at 0x7f5708a54220> transformations\n",
      "Processing <function missing_signal at 0x7f5708a542c0> transformations\n"
     ]
    },
    {
     "ename": "NameError",
     "evalue": "name 'X_augmented_arr' is not defined",
     "output_type": "error",
     "traceback": [
      "\u001b[0;31m---------------------------------------------------------------------------\u001b[0m",
      "\u001b[0;31mNameError\u001b[0m                                 Traceback (most recent call last)",
      "Cell \u001b[0;32mIn[6], line 11\u001b[0m\n\u001b[1;32m      7\u001b[0m scaler \u001b[38;5;241m=\u001b[39m MinMaxScaler()\n\u001b[1;32m      9\u001b[0m T \u001b[38;5;241m=\u001b[39m [identity, cut_paste, mean_shift, missing_signal]\n\u001b[0;32m---> 11\u001b[0m X_train \u001b[38;5;241m=\u001b[39m \u001b[43maugment\u001b[49m\u001b[43m(\u001b[49m\u001b[43mT\u001b[49m\u001b[43m,\u001b[49m\u001b[43m \u001b[49m\u001b[43mX_train\u001b[49m\u001b[43m,\u001b[49m\u001b[43m \u001b[49m\u001b[38;5;241;43m5\u001b[39;49m\u001b[43m)\u001b[49m\n\u001b[1;32m     12\u001b[0m X_val \u001b[38;5;241m=\u001b[39m augment(T, X_val, \u001b[38;5;241m5\u001b[39m)\n\u001b[1;32m     13\u001b[0m X_test \u001b[38;5;241m=\u001b[39m augment(T, X_test, \u001b[38;5;241m5\u001b[39m)\n",
      "File \u001b[0;32m~/workspace/thesis/main.py:157\u001b[0m, in \u001b[0;36maugment\u001b[0;34m(T, X_train, p)\u001b[0m\n\u001b[1;32m    154\u001b[0m         X_augmented_list\u001b[38;5;241m.\u001b[39mappend(x_scalogram)\n\u001b[1;32m    156\u001b[0m X_augmented \u001b[38;5;241m=\u001b[39m np\u001b[38;5;241m.\u001b[39marray(X_augmented_list)\n\u001b[0;32m--> 157\u001b[0m \u001b[38;5;28;01mreturn\u001b[39;00m \u001b[43mX_augmented_arr\u001b[49m\n",
      "\u001b[0;31mNameError\u001b[0m: name 'X_augmented_arr' is not defined"
     ]
    }
   ],
   "source": [
    "from sklearn.preprocessing import MinMaxScaler\n",
    "X_trainval, X_test, y_trainval, y_test = train_test_split(X, y, test_size = 0.2, stratify = y)\n",
    "X_train, X_val, y_train, y_val = train_test_split(X_trainval, y_trainval, test_size = 0.5, stratify = y_trainval)\n",
    "\n",
    "X_train.shape, X_val.shape, X_test.shape\n",
    "\n",
    "scaler = MinMaxScaler()\n",
    "\n",
    "T = [identity, cut_paste, mean_shift, missing_signal]\n",
    "\n",
    "X_train = augment(T, X_train, 5)\n",
    "X_val = augment(T, X_val, 5)\n",
    "X_test = augment(T, X_test, 5)\n",
    "\n",
    "scaler.fit(X_train)\n",
    "X_train = scaler.transform(X_train)\n",
    "X_val = scaler.transform(X_val)\n",
    "X_test = scaler.transform(X_test)"
   ]
  },
  {
   "cell_type": "code",
   "execution_count": null,
   "id": "bae5bfdf-097b-44cb-8227-75c7e628a284",
   "metadata": {},
   "outputs": [],
   "source": [
    "# Define the model f\n",
    "def create_f_model():\n",
    "    model = models.Sequential()\n",
    "    model.add(layers.InputLayer(shape=(128, 512, 3)))\n",
    "\n",
    "    model.add(layers.Conv2D(16, (5, 5), strides=(2, 2), padding='same'))\n",
    "    model.add(layers.BatchNormalization())\n",
    "    model.add(layers.LeakyReLU())\n",
    "    \n",
    "    model.add(layers.MaxPooling2D(pool_size=(2, 2)))\n",
    "    \n",
    "    model.add(layers.Conv2D(16, (5, 5), strides=(2, 2), padding='same'))\n",
    "    model.add(layers.BatchNormalization())\n",
    "    model.add(layers.LeakyReLU())\n",
    "    \n",
    "    model.add(layers.Conv2D(32, (3, 3), strides=(2, 2), padding='same'))\n",
    "    model.add(layers.BatchNormalization())\n",
    "    model.add(layers.LeakyReLU())\n",
    "    \n",
    "    model.add(layers.MaxPooling2D(pool_size=(2, 2)))\n",
    "    \n",
    "    model.add(layers.Flatten())\n",
    "    model.add(layers.Dense(32))\n",
    "    model.add(layers.BatchNormalization())\n",
    "    model.add(layers.LeakyReLU())\n",
    "\n",
    "    model.compile(\n",
    "    loss=keras.losses.CategoricalCrossentropy(),\n",
    "    optimizer=keras.optimizers.Adam(weight_decay = 10^3),\n",
    "    metrics=[\"f1_score\"],\n",
    "    )\n",
    "    return model\n",
    "\n",
    "def create_g_loc_model():\n",
    "    model = models.Sequential()\n",
    "    \n",
    "    model.add(layers.Dense(16))\n",
    "    model.add(layers.BatchNormalization())\n",
    "    model.add(layers.LeakyReLU())\n",
    "    \n",
    "    model.add(layers.Dense(8))\n",
    "    model.add(layers.BatchNormalization())\n",
    "    model.add(layers.LeakyReLU())\n",
    "\n",
    "    model.add(layers.Dense(6, activation='softmax'))\n",
    "\n",
    "    return model\n",
    "\n",
    "def create_g_trans_model():\n",
    "    model = models.Sequential()\n",
    "\n",
    "    model.add(layers.Dense(16))\n",
    "    model.add(layers.BatchNormalization())\n",
    "    model.add(layers.LeakyReLU())\n",
    "\n",
    "    model.add(layers.Dense(8))\n",
    "    model.add(layers.BatchNormalization())\n",
    "    model.add(layers.LeakyReLU())\n",
    "    \n",
    "    model.add(layers.Dense(4, activation='softmax'))\n",
    "\n",
    "    return model\n",
    "\n",
    "# Creating the models\n",
    "f_model = create_f_model()\n",
    "g_loc_model = create_g_loc_model()\n",
    "g_trans_model = create_g_trans_model()\n",
    "\n",
    "# Print model summaries\n",
    "f_model.summary()\n",
    "g_loc_model.summary()\n",
    "g_trans_model.summary()\n"
   ]
  },
  {
   "cell_type": "code",
   "execution_count": null,
   "id": "4100a65b-c4bf-464a-9914-3ef83bcca7c7",
   "metadata": {},
   "outputs": [],
   "source": []
  },
  {
   "cell_type": "code",
   "execution_count": null,
   "id": "20469d45-47b8-41aa-ab6f-0b6179d0400e",
   "metadata": {},
   "outputs": [],
   "source": [
    "def create_f_model_downstream():\n",
    "    model = models.Sequential()\n",
    "    model.add(layers.InputLayer(shape=(128, 512, 3)))\n",
    "\n",
    "    model.add(layers.Conv2D(8, (5, 5), strides=(2, 2), padding='same'))\n",
    "    model.add(layers.BatchNormalization())\n",
    "    model.add(layers.LeakyReLU())\n",
    "    \n",
    "    model.add(layers.MaxPooling2D(pool_size=(2, 2)))\n",
    "    \n",
    "    model.add(layers.Conv2D(16, (5, 5), strides=(2, 2), padding='same'))\n",
    "    model.add(layers.BatchNormalization())\n",
    "    model.add(layers.LeakyReLU())\n",
    "    \n",
    "    model.add(layers.MaxPooling2D(pool_size=(2, 2)))\n",
    "\n",
    "    model.add(layers.Conv2D(32, (3, 3), strides=(2, 2), padding='same'))\n",
    "    model.add(layers.BatchNormalization())\n",
    "    model.add(layers.LeakyReLU())\n",
    "    \n",
    "    model.add(layers.MaxPooling2D(pool_size=(2, 2)))\n",
    "\n",
    "    model.add(layers.Flatten())\n",
    "    model.add(layers.Dense(32))\n",
    "    model.add(layers.BatchNormalization())\n",
    "    model.add(layers.LeakyReLU())\n",
    "\n",
    "    model.add(layers.Dense(16))\n",
    "    model.add(layers.LeakyReLU())\n",
    "\n",
    "    # Hotelling's T^2 output (Dense layer with 1 output neuron)\n",
    "    model.add(layers.Dense(1, name=\"hotellings_T2\"))\n",
    "    return model\n",
    "\n",
    "# Create the model\n",
    "f_model_downstream = create_f_model_downstream()\n",
    "\n",
    "# Print the model summary\n",
    "#f_model_downstream.summary()"
   ]
  }
 ],
 "metadata": {
  "kernelspec": {
   "display_name": "Python 3 (ipykernel)",
   "language": "python",
   "name": "python3"
  },
  "language_info": {
   "codemirror_mode": {
    "name": "ipython",
    "version": 3
   },
   "file_extension": ".py",
   "mimetype": "text/x-python",
   "name": "python",
   "nbconvert_exporter": "python",
   "pygments_lexer": "ipython3",
   "version": "3.12.3"
  }
 },
 "nbformat": 4,
 "nbformat_minor": 5
}

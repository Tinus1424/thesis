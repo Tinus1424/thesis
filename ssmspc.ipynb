{
 "cells": [
  {
   "cell_type": "code",
   "execution_count": 1,
   "id": "65a365fe-fb60-4404-9813-f173eb55cc2a",
   "metadata": {},
   "outputs": [
    {
     "name": "stderr",
     "output_type": "stream",
     "text": [
      "2024-11-09 12:33:10.702377: I tensorflow/core/util/port.cc:153] oneDNN custom operations are on. You may see slightly different numerical results due to floating-point round-off errors from different computation orders. To turn them off, set the environment variable `TF_ENABLE_ONEDNN_OPTS=0`.\n",
      "2024-11-09 12:33:10.755110: E external/local_xla/xla/stream_executor/cuda/cuda_fft.cc:477] Unable to register cuFFT factory: Attempting to register factory for plugin cuFFT when one has already been registered\n",
      "WARNING: All log messages before absl::InitializeLog() is called are written to STDERR\n",
      "E0000 00:00:1731151990.782976    6672 cuda_dnn.cc:8310] Unable to register cuDNN factory: Attempting to register factory for plugin cuDNN when one has already been registered\n",
      "E0000 00:00:1731151990.790527    6672 cuda_blas.cc:1418] Unable to register cuBLAS factory: Attempting to register factory for plugin cuBLAS when one has already been registered\n",
      "2024-11-09 12:33:10.839446: I tensorflow/core/platform/cpu_feature_guard.cc:210] This TensorFlow binary is optimized to use available CPU instructions in performance-critical operations.\n",
      "To enable the following instructions: AVX2 AVX512F AVX512_VNNI FMA, in other operations, rebuild TensorFlow with the appropriate compiler flags.\n"
     ]
    }
   ],
   "source": [
    "from main import *\n",
    "from sklearn.model_selection import train_test_split\n",
    "\n",
    "import keras\n",
    "import tensorflow as tf\n",
    "from tensorflow.keras import layers, models\n",
    "from sklearn.utils import shuffle\n",
    "\n",
    "from tensorflow.keras import layers, callbacks\n",
    "from tensorflow.keras.optimizers import Adam\n",
    "from tensorflow.keras.optimizers.schedules import CosineDecay\n",
    "from tensorflow.keras.utils import to_categorical\n",
    "from itertools import groupby\n",
    "from sklearn.preprocessing import MinMaxScaler\n",
    "\n",
    "\n",
    "SHORT = True"
   ]
  },
  {
   "cell_type": "code",
   "execution_count": 2,
   "id": "e22589b8-655d-4e12-8526-8afe99755dae",
   "metadata": {},
   "outputs": [],
   "source": [
    "if SHORT == True:\n",
    "    machines = [\"M01\", \"M02\", \"M03\"]\n",
    "    process_names = [\"OP01\", \"OP02\",\"OP07\"]\n",
    "else:\n",
    "    machines = [\"M01\", \"M02\",\"M03\"]\n",
    "    process_names = [\"OP00\",\"OP01\",\"OP02\",\"OP03\",\"OP04\",\"OP05\",\"OP06\",\"OP07\",\"OP08\",\"OP09\",\"OP10\",\"OP11\",\"OP12\",\"OP13\",\"OP14\"]\n",
    "\n",
    "labels = [\"good\",\"bad\"]\n",
    "path_to_dataset = Path(\"./data/\").absolute()"
   ]
  },
  {
   "cell_type": "code",
   "execution_count": 3,
   "id": "57c8c827-1aa9-42c7-8b4f-fb68c4c8bbd0",
   "metadata": {},
   "outputs": [],
   "source": [
    "def resize_op(op):\n",
    "    min = float(\"inf\")\n",
    "    for x in op:\n",
    "        if x.shape[0] < min:\n",
    "            min = x.shape[0]\n",
    "    for i in range(len(op)):\n",
    "        op[i] = op[i][:min]\n",
    "    return op\n",
    "\n",
    "def group_ops(op):\n",
    "    keyfunc = lambda x: x[4:12]\n",
    "    groups = []\n",
    "    uniquekeys = []\n",
    "    data = sorted(op, key=keyfunc)\n",
    "    for k, g in groupby(data, keyfunc):\n",
    "        groups.append(list(g))      # Store group iterator as a list\n",
    "        uniquekeys.append(k)\n",
    "    return groups\n",
    "\n",
    "def select_samples(Y0, Y1, Y2, X0, X1, X2):\n",
    "    X, y = [], []\n",
    "    \n",
    "    idx0, idx1, idx2 = 0, 0, 0\n",
    "    count = 0\n",
    "    for y0, y1, y2 in zip(Y0, Y1, Y2):\n",
    "        len0 = len(y0)\n",
    "        len1 = len(y1)\n",
    "        len2 = len(y2)\n",
    "        minimum = min(len0, len1, len2)\n",
    "        for i in range(minimum):\n",
    "            X.append(np.concatenate((X0[idx0 + i], X1[idx1 + i], X2[idx2 + i])))\n",
    "            y.append((1 if any(\"bad\" in s for s in [y0[i], y1[i], y2[i]]) else 0))\n",
    "            count+= (1 if \"bad\" in (y0[i][-4:] + y1[i][-4:] + y2[i][-4:]) else 0)\n",
    "        idx0 += len0 \n",
    "        idx1 += len1\n",
    "        idx2 += len2\n",
    "    return np.array(X), np.array(y)\n",
    "\n",
    "def split_samples(X, y):\n",
    "    all_indices = np.arange(len(y))\n",
    "    normal = np.where(np.array(y) == 0)[0]\n",
    "    sample_size = int(len(y) * 0.6)\n",
    "    train_indices = np.random.choice(normal, size=sample_size, replace=False)\n",
    "    testval_indices = np.setdiff1d(all_indices, train_indices)\n",
    "    \n",
    "    X_train = X[train_indices]\n",
    "    y_train = y[train_indices]\n",
    "    X_testval = X[testval_indices]\n",
    "    y_testval = y[testval_indices]\n",
    "    \n",
    "    X_val, X_test, y_val, y_test = train_test_split(X_testval, y_testval, test_size = 0.75, stratify = y_testval)\n",
    "    return X_train, X_val, X_test, y_train, y_val, y_test"
   ]
  },
  {
   "cell_type": "code",
   "execution_count": 4,
   "id": "ed402d95-e1d7-400c-be59-d919b52be198",
   "metadata": {},
   "outputs": [],
   "source": [
    "OP01_X_data, OP01_y_data = [], []\n",
    "OP02_X_data, OP02_y_data  = [], []\n",
    "OP07_X_data, OP07_y_data = [], []\n",
    "\n",
    "for process_name, machine, label in itertools.product(process_names, machines, labels):\n",
    "    data_path = os.path.join(path_to_dataset, machine, process_name, label)\n",
    "    data_list, data_label = data_loader_utils.load_tool_research_data(data_path, label=label, add_additional_label = True, verbose = False)\n",
    "    if process_name == \"OP01\":\n",
    "        OP01_X_data.extend(data_list)\n",
    "        OP01_y_data.extend(data_label)\n",
    "    if process_name == \"OP02\":\n",
    "        OP02_X_data.extend(data_list)\n",
    "        OP02_y_data.extend(data_label)\n",
    "    if process_name == \"OP07\":\n",
    "        OP07_X_data.extend(data_list)\n",
    "        OP07_y_data.extend(data_label)\n",
    "\n",
    "X0 = resize_op(OP01_X_data)\n",
    "X1 = resize_op(OP02_X_data)\n",
    "X2 = resize_op(OP07_X_data)\n",
    "\n",
    "Y0 = group_ops(OP01_y_data)\n",
    "Y1 = group_ops(OP02_y_data)\n",
    "Y2 = group_ops(OP07_y_data)\n",
    "\n",
    "X, y = select_samples(Y0, Y1, Y2, X0, X1, X2)\n",
    "\n",
    "X_train, X_val, X_test, y_train, y_val, y_test = split_samples(X, y)"
   ]
  },
  {
   "cell_type": "code",
   "execution_count": 5,
   "id": "987292c6-e728-450d-b420-185211acf486",
   "metadata": {},
   "outputs": [],
   "source": [
    "def compute_scalogram(x):\n",
    "    x_scalogram_list = []\n",
    "    for m in range(3):\n",
    "        cwtmatr, freqs = cwt(x[:, m], np.arange(1, 129), \"morl\")\n",
    "        cwtmatr_reshaped = resize(cwtmatr, (128, 512))\n",
    "        x_scalogram_list.append(cwtmatr_reshaped)\n",
    "    x_scalogram_raw = np.array(x_scalogram_list)\n",
    "    x_scalogram = x_scalogram_raw.reshape(128, 512, 3)\n",
    "    return x_scalogram\n",
    "\n",
    "def augment(T, X_data, p):\n",
    "    X = np.copy(X_data)\n",
    "    X_augmented_list = []\n",
    "    n_samples, n_timesteps, n_sensors = X.shape\n",
    "\n",
    "    loc = []\n",
    "    trans = []\n",
    "    \n",
    "    b = compute_windows(n_timesteps, p) # Compute window bounds for p windows\n",
    "\n",
    "    for i, t in enumerate(T):\n",
    "        print(f\"Processing {t.__name__} transformations\")\n",
    "        for x in X:\n",
    "            W_j = np.random.randint(1, p + 1)  # Randomly choose a window W_j\n",
    "            b_lower, b_upper = b[W_j]  # Get the upper and lower bound of the windows\n",
    "            c1, c2 = sorted(np.random.randint(b_lower, b_upper + 1, size=2))  # Sample two random numbers within the window\n",
    "            if c1 > c2:\n",
    "                c1, c2 = c2, c1\n",
    "            x_augmented = t(x, c1, c2, p, b)  # Augment x in window W_j with t\n",
    "            x_scalogram = compute_scalogram(x_augmented)\n",
    "            X_augmented_list.append(x_scalogram)\n",
    "            \n",
    "            if i == 0:\n",
    "                loc.append(0)\n",
    "            else:\n",
    "                loc.append(W_j)\n",
    "            trans.append(i)\n",
    "        print(f\"Completed Processing {t.__name__} transformations\") \n",
    "\n",
    "    \n",
    "    return np.array(X_augmented_list), np.array(loc), np.array(trans)\n",
    "\n",
    "def normalize_axis(X_data, X_train):\n",
    "    X = np.copy(X_data)\n",
    "    for i in range(3):\n",
    "        min_val = np.min([np.min(x) for x in X_train[:,:,:,i]])\n",
    "        max_val = np.max([np.max(x) for x in X_train[:,:,:,i]])\n",
    "    \n",
    "        X[:,:,:,i] = [(x - min_val) / (max_val - min_val) for x in X[:,:,:,i]]\n",
    "    return X"
   ]
  },
  {
   "cell_type": "code",
   "execution_count": 6,
   "id": "62b24c89-29fa-49e4-a338-8793770e8bea",
   "metadata": {},
   "outputs": [
    {
     "name": "stdout",
     "output_type": "stream",
     "text": [
      "Processing identity transformations\n",
      "Completed Processing identity transformations\n",
      "Processing cut_paste transformations\n",
      "Completed Processing cut_paste transformations\n",
      "Processing mean_shift transformations\n",
      "Completed Processing mean_shift transformations\n",
      "Processing missing_signal transformations\n",
      "Completed Processing missing_signal transformations\n"
     ]
    }
   ],
   "source": [
    "T = [identity, cut_paste, mean_shift, missing_signal]\n",
    "\n",
    "X_aug, loc, trans  = augment(T, X_train, 5)"
   ]
  },
  {
   "cell_type": "code",
   "execution_count": 7,
   "id": "e86d001d-3d40-460d-9b3e-fbe5b2873317",
   "metadata": {},
   "outputs": [
    {
     "name": "stderr",
     "output_type": "stream",
     "text": [
      "I0000 00:00:1731153232.333650    6672 gpu_device.cc:2022] Created device /job:localhost/replica:0/task:0/device:GPU:0 with 1767 MB memory:  -> device: 0, name: NVIDIA GeForce RTX 3050 Laptop GPU, pci bus id: 0000:01:00.0, compute capability: 8.6\n"
     ]
    }
   ],
   "source": [
    "X_aug_n = normalize_axis(X_aug, X_aug)\n",
    "X_aug_n, loc, trans = shuffle(X_aug_n, loc, trans)\n",
    "\n",
    "loc = to_categorical(loc, num_classes=6).reshape(-1, 6)\n",
    "trans = to_categorical(trans, num_classes=4).reshape(-1, 4)\n",
    "\n",
    "X_aug_list = list(X_aug_n)\n",
    "loc_list = list(loc)\n",
    "trans_list = list(trans)\n",
    "\n",
    "train_aug = tf.data.Dataset.from_tensor_slices((X_aug_list, (loc_list, trans_list)))\n",
    "train_aug = train_aug.batch(8)"
   ]
  },
  {
   "cell_type": "code",
   "execution_count": 8,
   "id": "dc82651f-d70a-4ec1-b3b5-cda7916b6e84",
   "metadata": {},
   "outputs": [],
   "source": [
    "slope = 1e-1\n",
    "input_shape = (128, 512, 3)\n",
    "\n",
    "sensordata = keras.Input(shape = input_shape, name = \"sensordata\")\n",
    "\n",
    "x = layers.Conv2D(8, (7, 7))(sensordata)\n",
    "x = layers.BatchNormalization()(x)\n",
    "x = layers.LeakyReLU(slope)(x)\n",
    "\n",
    "x = layers.MaxPooling2D()(x)\n",
    "\n",
    "x = layers.Conv2D(16, (7, 7))(x)\n",
    "x = layers.BatchNormalization()(x)\n",
    "x = layers.LeakyReLU(slope)(x)\n",
    "\n",
    "x = layers.MaxPooling2D()(x)\n",
    "\n",
    "x = layers.Conv2D(32, (7, 7))(x)\n",
    "x = layers.BatchNormalization()(x)\n",
    "x = layers.LeakyReLU(slope)(x)\n",
    "\n",
    "x = layers.MaxPooling2D()(x)\n",
    "\n",
    "x = layers.Flatten()(x)\n",
    "x = layers.Dense(32)(x)\n",
    "x = layers.BatchNormalization()(x)\n",
    "x = layers.LeakyReLU(slope)(x)\n",
    "\n",
    "x = layers.Dense(16)(x)\n",
    "x = layers.BatchNormalization()(x)\n",
    "x = layers.LeakyReLU(slope)(x)\n",
    "\n",
    "g_loc = layers.Dense(16)(x)\n",
    "g_loc = layers.BatchNormalization()(g_loc)\n",
    "g_loc = layers.LeakyReLU(slope)(g_loc)\n",
    "\n",
    "g_loc = layers.Dense(8)(g_loc)\n",
    "g_loc = layers.BatchNormalization()(g_loc)\n",
    "g_loc = layers.LeakyReLU(slope)(g_loc)\n",
    "loc = layers.Dense(6, activation = \"softmax\")(g_loc)\n",
    "\n",
    "g_trans = layers.Dense(16)(x)\n",
    "g_trans = layers.BatchNormalization()(g_trans)\n",
    "g_trans = layers.LeakyReLU(slope)(g_trans)\n",
    "\n",
    "g_trans = layers.Dense(8)(g_trans)\n",
    "g_trans = layers.BatchNormalization()(g_trans)\n",
    "g_trans = layers.LeakyReLU(slope)(g_trans)\n",
    "trans = layers.Dense(4, activation = \"softmax\")(g_trans)\n",
    "\n",
    "model = keras.Model(inputs = sensordata, outputs =[loc, trans])"
   ]
  },
  {
   "cell_type": "code",
   "execution_count": 9,
   "id": "b2565837-b117-4cb1-b788-aabf8fd47c77",
   "metadata": {},
   "outputs": [],
   "source": [
    "initial_learning_rate = 1e-4\n",
    "steps = (340 // 8) * 20\n",
    "lr_schedule = CosineDecay(initial_learning_rate, steps)\n",
    "\n",
    "model.compile(optimizer=Adam(lr_schedule, weight_decay = 1e-3),\n",
    "              loss = ['categorical_crossentropy', 'categorical_crossentropy'],\n",
    "              metrics = [[\"accuracy\"], [\"accuracy\"]])"
   ]
  },
  {
   "cell_type": "code",
   "execution_count": 10,
   "id": "4649ff10-497c-4a3e-8544-0f3e59502fb7",
   "metadata": {},
   "outputs": [
    {
     "name": "stdout",
     "output_type": "stream",
     "text": [
      "Epoch 1/20\n"
     ]
    },
    {
     "name": "stderr",
     "output_type": "stream",
     "text": [
      "WARNING: All log messages before absl::InitializeLog() is called are written to STDERR\n",
      "I0000 00:00:1731153255.359397    6884 service.cc:148] XLA service 0x7f90300244a0 initialized for platform CUDA (this does not guarantee that XLA will be used). Devices:\n",
      "I0000 00:00:1731153255.359533    6884 service.cc:156]   StreamExecutor device (0): NVIDIA GeForce RTX 3050 Laptop GPU, Compute Capability 8.6\n",
      "2024-11-09 12:54:15.505687: I tensorflow/compiler/mlir/tensorflow/utils/dump_mlir_util.cc:268] disabling MLIR crash reproducer, set env var `MLIR_CRASH_REPRODUCER_DIRECTORY` to enable.\n",
      "I0000 00:00:1731153255.976531    6884 cuda_dnn.cc:529] Loaded cuDNN version 90501\n",
      "I0000 00:00:1731153261.283549    6884 device_compiler.h:188] Compiled cluster using XLA!  This line is logged at most once for the lifetime of the process.\n"
     ]
    },
    {
     "name": "stdout",
     "output_type": "stream",
     "text": [
      "\u001b[1m43/43\u001b[0m \u001b[32m━━━━━━━━━━━━━━━━━━━━\u001b[0m\u001b[37m\u001b[0m \u001b[1m16s\u001b[0m 142ms/step - dense_4_accuracy: 0.1771 - dense_4_loss: 1.9395 - dense_7_accuracy: 0.2351 - dense_7_loss: 1.6098 - loss: 3.5500\n",
      "Epoch 2/20\n"
     ]
    },
    {
     "name": "stderr",
     "output_type": "stream",
     "text": [
      "2024-11-09 12:54:27.238407: I external/local_xla/xla/stream_executor/cuda/cuda_asm_compiler.cc:397] ptxas warning : Registers are spilled to local memory in function 'input_reduce_select_fusion', 8 bytes spill stores, 8 bytes spill loads\n",
      "\n"
     ]
    },
    {
     "name": "stdout",
     "output_type": "stream",
     "text": [
      "\u001b[1m43/43\u001b[0m \u001b[32m━━━━━━━━━━━━━━━━━━━━\u001b[0m\u001b[37m\u001b[0m \u001b[1m1s\u001b[0m 25ms/step - dense_4_accuracy: 0.1810 - dense_4_loss: 1.8603 - dense_7_accuracy: 0.2837 - dense_7_loss: 1.4171 - loss: 3.2776\n",
      "Epoch 3/20\n",
      "\u001b[1m43/43\u001b[0m \u001b[32m━━━━━━━━━━━━━━━━━━━━\u001b[0m\u001b[37m\u001b[0m \u001b[1m1s\u001b[0m 17ms/step - dense_4_accuracy: 0.2766 - dense_4_loss: 1.7355 - dense_7_accuracy: 0.3622 - dense_7_loss: 1.3089 - loss: 3.0447\n",
      "Epoch 4/20\n",
      "\u001b[1m43/43\u001b[0m \u001b[32m━━━━━━━━━━━━━━━━━━━━\u001b[0m\u001b[37m\u001b[0m \u001b[1m1s\u001b[0m 17ms/step - dense_4_accuracy: 0.3068 - dense_4_loss: 1.6731 - dense_7_accuracy: 0.4436 - dense_7_loss: 1.2085 - loss: 2.8819\n",
      "Epoch 5/20\n",
      "\u001b[1m43/43\u001b[0m \u001b[32m━━━━━━━━━━━━━━━━━━━━\u001b[0m\u001b[37m\u001b[0m \u001b[1m1s\u001b[0m 17ms/step - dense_4_accuracy: 0.3249 - dense_4_loss: 1.6068 - dense_7_accuracy: 0.4753 - dense_7_loss: 1.1702 - loss: 2.7773\n",
      "Epoch 6/20\n",
      "\u001b[1m43/43\u001b[0m \u001b[32m━━━━━━━━━━━━━━━━━━━━\u001b[0m\u001b[37m\u001b[0m \u001b[1m1s\u001b[0m 17ms/step - dense_4_accuracy: 0.3607 - dense_4_loss: 1.5722 - dense_7_accuracy: 0.4727 - dense_7_loss: 1.1360 - loss: 2.7084\n",
      "Epoch 7/20\n",
      "\u001b[1m43/43\u001b[0m \u001b[32m━━━━━━━━━━━━━━━━━━━━\u001b[0m\u001b[37m\u001b[0m \u001b[1m1s\u001b[0m 16ms/step - dense_4_accuracy: 0.3784 - dense_4_loss: 1.5324 - dense_7_accuracy: 0.5340 - dense_7_loss: 1.1026 - loss: 2.6351\n",
      "Epoch 8/20\n",
      "\u001b[1m43/43\u001b[0m \u001b[32m━━━━━━━━━━━━━━━━━━━━\u001b[0m\u001b[37m\u001b[0m \u001b[1m1s\u001b[0m 17ms/step - dense_4_accuracy: 0.4213 - dense_4_loss: 1.5097 - dense_7_accuracy: 0.5748 - dense_7_loss: 1.0909 - loss: 2.6006\n",
      "Epoch 9/20\n",
      "\u001b[1m43/43\u001b[0m \u001b[32m━━━━━━━━━━━━━━━━━━━━\u001b[0m\u001b[37m\u001b[0m \u001b[1m1s\u001b[0m 17ms/step - dense_4_accuracy: 0.4604 - dense_4_loss: 1.4740 - dense_7_accuracy: 0.5476 - dense_7_loss: 1.0680 - loss: 2.5422\n",
      "Epoch 10/20\n",
      "\u001b[1m43/43\u001b[0m \u001b[32m━━━━━━━━━━━━━━━━━━━━\u001b[0m\u001b[37m\u001b[0m \u001b[1m1s\u001b[0m 17ms/step - dense_4_accuracy: 0.4944 - dense_4_loss: 1.4497 - dense_7_accuracy: 0.5829 - dense_7_loss: 1.0376 - loss: 2.4875\n",
      "Epoch 11/20\n",
      "\u001b[1m43/43\u001b[0m \u001b[32m━━━━━━━━━━━━━━━━━━━━\u001b[0m\u001b[37m\u001b[0m \u001b[1m1s\u001b[0m 17ms/step - dense_4_accuracy: 0.5122 - dense_4_loss: 1.4299 - dense_7_accuracy: 0.5847 - dense_7_loss: 1.0040 - loss: 2.4342\n",
      "Epoch 12/20\n",
      "\u001b[1m43/43\u001b[0m \u001b[32m━━━━━━━━━━━━━━━━━━━━\u001b[0m\u001b[37m\u001b[0m \u001b[1m1s\u001b[0m 17ms/step - dense_4_accuracy: 0.5720 - dense_4_loss: 1.4030 - dense_7_accuracy: 0.6257 - dense_7_loss: 0.9775 - loss: 2.3807\n",
      "Epoch 13/20\n",
      "\u001b[1m43/43\u001b[0m \u001b[32m━━━━━━━━━━━━━━━━━━━━\u001b[0m\u001b[37m\u001b[0m \u001b[1m1s\u001b[0m 17ms/step - dense_4_accuracy: 0.5585 - dense_4_loss: 1.3778 - dense_7_accuracy: 0.6392 - dense_7_loss: 0.9678 - loss: 2.3459\n",
      "Epoch 14/20\n",
      "\u001b[1m43/43\u001b[0m \u001b[32m━━━━━━━━━━━━━━━━━━━━\u001b[0m\u001b[37m\u001b[0m \u001b[1m1s\u001b[0m 17ms/step - dense_4_accuracy: 0.5856 - dense_4_loss: 1.3603 - dense_7_accuracy: 0.6630 - dense_7_loss: 0.9458 - loss: 2.3064\n",
      "Epoch 15/20\n",
      "\u001b[1m43/43\u001b[0m \u001b[32m━━━━━━━━━━━━━━━━━━━━\u001b[0m\u001b[37m\u001b[0m \u001b[1m1s\u001b[0m 16ms/step - dense_4_accuracy: 0.6003 - dense_4_loss: 1.3457 - dense_7_accuracy: 0.6701 - dense_7_loss: 0.9402 - loss: 2.2861\n",
      "Epoch 16/20\n",
      "\u001b[1m43/43\u001b[0m \u001b[32m━━━━━━━━━━━━━━━━━━━━\u001b[0m\u001b[37m\u001b[0m \u001b[1m1s\u001b[0m 17ms/step - dense_4_accuracy: 0.6046 - dense_4_loss: 1.3327 - dense_7_accuracy: 0.6626 - dense_7_loss: 0.9317 - loss: 2.2647\n",
      "Epoch 17/20\n",
      "\u001b[1m43/43\u001b[0m \u001b[32m━━━━━━━━━━━━━━━━━━━━\u001b[0m\u001b[37m\u001b[0m \u001b[1m1s\u001b[0m 17ms/step - dense_4_accuracy: 0.6205 - dense_4_loss: 1.3248 - dense_7_accuracy: 0.6717 - dense_7_loss: 0.9279 - loss: 2.2529\n",
      "Epoch 18/20\n",
      "\u001b[1m43/43\u001b[0m \u001b[32m━━━━━━━━━━━━━━━━━━━━\u001b[0m\u001b[37m\u001b[0m \u001b[1m1s\u001b[0m 16ms/step - dense_4_accuracy: 0.6199 - dense_4_loss: 1.3258 - dense_7_accuracy: 0.6846 - dense_7_loss: 0.9199 - loss: 2.2459\n",
      "Epoch 19/20\n",
      "\u001b[1m43/43\u001b[0m \u001b[32m━━━━━━━━━━━━━━━━━━━━\u001b[0m\u001b[37m\u001b[0m \u001b[1m-1s\u001b[0m -12575us/step - dense_4_accuracy: 0.6203 - dense_4_loss: 1.3247 - dense_7_accuracy: 0.6812 - dense_7_loss: 0.9228 - loss: 2.2477\n",
      "Epoch 20/20\n",
      "\u001b[1m43/43\u001b[0m \u001b[32m━━━━━━━━━━━━━━━━━━━━\u001b[0m\u001b[37m\u001b[0m \u001b[1m1s\u001b[0m 17ms/step - dense_4_accuracy: 0.6222 - dense_4_loss: 1.3220 - dense_7_accuracy: 0.6834 - dense_7_loss: 0.9201 - loss: 2.2423\n"
     ]
    },
    {
     "data": {
      "text/plain": [
       "<keras.src.callbacks.history.History at 0x7f91a69a8950>"
      ]
     },
     "execution_count": 10,
     "metadata": {},
     "output_type": "execute_result"
    }
   ],
   "source": [
    "model.fit(train_aug,\n",
    "          epochs = 20)"
   ]
  },
  {
   "cell_type": "code",
   "execution_count": 11,
   "id": "15fd8d4b-0814-4078-826a-4bc096fd8224",
   "metadata": {},
   "outputs": [],
   "source": [
    "dst = keras.Model(inputs = sensordata, outputs = x, trainable = False)"
   ]
  },
  {
   "cell_type": "code",
   "execution_count": 12,
   "id": "fdc7da29-040b-46f5-8927-11a3d44d15b5",
   "metadata": {},
   "outputs": [
    {
     "data": {
      "text/html": [
       "<pre style=\"white-space:pre;overflow-x:auto;line-height:normal;font-family:Menlo,'DejaVu Sans Mono',consolas,'Courier New',monospace\"><span style=\"font-weight: bold\">Model: \"functional_1\"</span>\n",
       "</pre>\n"
      ],
      "text/plain": [
       "\u001b[1mModel: \"functional_1\"\u001b[0m\n"
      ]
     },
     "metadata": {},
     "output_type": "display_data"
    },
    {
     "data": {
      "text/html": [
       "<pre style=\"white-space:pre;overflow-x:auto;line-height:normal;font-family:Menlo,'DejaVu Sans Mono',consolas,'Courier New',monospace\">┏━━━━━━━━━━━━━━━━━━━━━━━━━━━━━━━━━┳━━━━━━━━━━━━━━━━━━━━━━━━┳━━━━━━━━━━━━━━━┓\n",
       "┃<span style=\"font-weight: bold\"> Layer (type)                    </span>┃<span style=\"font-weight: bold\"> Output Shape           </span>┃<span style=\"font-weight: bold\">       Param # </span>┃\n",
       "┡━━━━━━━━━━━━━━━━━━━━━━━━━━━━━━━━━╇━━━━━━━━━━━━━━━━━━━━━━━━╇━━━━━━━━━━━━━━━┩\n",
       "│ sensordata (<span style=\"color: #0087ff; text-decoration-color: #0087ff\">InputLayer</span>)         │ (<span style=\"color: #00d7ff; text-decoration-color: #00d7ff\">None</span>, <span style=\"color: #00af00; text-decoration-color: #00af00\">128</span>, <span style=\"color: #00af00; text-decoration-color: #00af00\">512</span>, <span style=\"color: #00af00; text-decoration-color: #00af00\">3</span>)    │             <span style=\"color: #00af00; text-decoration-color: #00af00\">0</span> │\n",
       "├─────────────────────────────────┼────────────────────────┼───────────────┤\n",
       "│ conv2d (<span style=\"color: #0087ff; text-decoration-color: #0087ff\">Conv2D</span>)                 │ (<span style=\"color: #00d7ff; text-decoration-color: #00d7ff\">None</span>, <span style=\"color: #00af00; text-decoration-color: #00af00\">122</span>, <span style=\"color: #00af00; text-decoration-color: #00af00\">506</span>, <span style=\"color: #00af00; text-decoration-color: #00af00\">8</span>)    │         <span style=\"color: #00af00; text-decoration-color: #00af00\">1,184</span> │\n",
       "├─────────────────────────────────┼────────────────────────┼───────────────┤\n",
       "│ batch_normalization             │ (<span style=\"color: #00d7ff; text-decoration-color: #00d7ff\">None</span>, <span style=\"color: #00af00; text-decoration-color: #00af00\">122</span>, <span style=\"color: #00af00; text-decoration-color: #00af00\">506</span>, <span style=\"color: #00af00; text-decoration-color: #00af00\">8</span>)    │            <span style=\"color: #00af00; text-decoration-color: #00af00\">32</span> │\n",
       "│ (<span style=\"color: #0087ff; text-decoration-color: #0087ff\">BatchNormalization</span>)            │                        │               │\n",
       "├─────────────────────────────────┼────────────────────────┼───────────────┤\n",
       "│ leaky_re_lu (<span style=\"color: #0087ff; text-decoration-color: #0087ff\">LeakyReLU</span>)         │ (<span style=\"color: #00d7ff; text-decoration-color: #00d7ff\">None</span>, <span style=\"color: #00af00; text-decoration-color: #00af00\">122</span>, <span style=\"color: #00af00; text-decoration-color: #00af00\">506</span>, <span style=\"color: #00af00; text-decoration-color: #00af00\">8</span>)    │             <span style=\"color: #00af00; text-decoration-color: #00af00\">0</span> │\n",
       "├─────────────────────────────────┼────────────────────────┼───────────────┤\n",
       "│ max_pooling2d (<span style=\"color: #0087ff; text-decoration-color: #0087ff\">MaxPooling2D</span>)    │ (<span style=\"color: #00d7ff; text-decoration-color: #00d7ff\">None</span>, <span style=\"color: #00af00; text-decoration-color: #00af00\">61</span>, <span style=\"color: #00af00; text-decoration-color: #00af00\">253</span>, <span style=\"color: #00af00; text-decoration-color: #00af00\">8</span>)     │             <span style=\"color: #00af00; text-decoration-color: #00af00\">0</span> │\n",
       "├─────────────────────────────────┼────────────────────────┼───────────────┤\n",
       "│ conv2d_1 (<span style=\"color: #0087ff; text-decoration-color: #0087ff\">Conv2D</span>)               │ (<span style=\"color: #00d7ff; text-decoration-color: #00d7ff\">None</span>, <span style=\"color: #00af00; text-decoration-color: #00af00\">55</span>, <span style=\"color: #00af00; text-decoration-color: #00af00\">247</span>, <span style=\"color: #00af00; text-decoration-color: #00af00\">16</span>)    │         <span style=\"color: #00af00; text-decoration-color: #00af00\">6,288</span> │\n",
       "├─────────────────────────────────┼────────────────────────┼───────────────┤\n",
       "│ batch_normalization_1           │ (<span style=\"color: #00d7ff; text-decoration-color: #00d7ff\">None</span>, <span style=\"color: #00af00; text-decoration-color: #00af00\">55</span>, <span style=\"color: #00af00; text-decoration-color: #00af00\">247</span>, <span style=\"color: #00af00; text-decoration-color: #00af00\">16</span>)    │            <span style=\"color: #00af00; text-decoration-color: #00af00\">64</span> │\n",
       "│ (<span style=\"color: #0087ff; text-decoration-color: #0087ff\">BatchNormalization</span>)            │                        │               │\n",
       "├─────────────────────────────────┼────────────────────────┼───────────────┤\n",
       "│ leaky_re_lu_1 (<span style=\"color: #0087ff; text-decoration-color: #0087ff\">LeakyReLU</span>)       │ (<span style=\"color: #00d7ff; text-decoration-color: #00d7ff\">None</span>, <span style=\"color: #00af00; text-decoration-color: #00af00\">55</span>, <span style=\"color: #00af00; text-decoration-color: #00af00\">247</span>, <span style=\"color: #00af00; text-decoration-color: #00af00\">16</span>)    │             <span style=\"color: #00af00; text-decoration-color: #00af00\">0</span> │\n",
       "├─────────────────────────────────┼────────────────────────┼───────────────┤\n",
       "│ max_pooling2d_1 (<span style=\"color: #0087ff; text-decoration-color: #0087ff\">MaxPooling2D</span>)  │ (<span style=\"color: #00d7ff; text-decoration-color: #00d7ff\">None</span>, <span style=\"color: #00af00; text-decoration-color: #00af00\">27</span>, <span style=\"color: #00af00; text-decoration-color: #00af00\">123</span>, <span style=\"color: #00af00; text-decoration-color: #00af00\">16</span>)    │             <span style=\"color: #00af00; text-decoration-color: #00af00\">0</span> │\n",
       "├─────────────────────────────────┼────────────────────────┼───────────────┤\n",
       "│ conv2d_2 (<span style=\"color: #0087ff; text-decoration-color: #0087ff\">Conv2D</span>)               │ (<span style=\"color: #00d7ff; text-decoration-color: #00d7ff\">None</span>, <span style=\"color: #00af00; text-decoration-color: #00af00\">21</span>, <span style=\"color: #00af00; text-decoration-color: #00af00\">117</span>, <span style=\"color: #00af00; text-decoration-color: #00af00\">32</span>)    │        <span style=\"color: #00af00; text-decoration-color: #00af00\">25,120</span> │\n",
       "├─────────────────────────────────┼────────────────────────┼───────────────┤\n",
       "│ batch_normalization_2           │ (<span style=\"color: #00d7ff; text-decoration-color: #00d7ff\">None</span>, <span style=\"color: #00af00; text-decoration-color: #00af00\">21</span>, <span style=\"color: #00af00; text-decoration-color: #00af00\">117</span>, <span style=\"color: #00af00; text-decoration-color: #00af00\">32</span>)    │           <span style=\"color: #00af00; text-decoration-color: #00af00\">128</span> │\n",
       "│ (<span style=\"color: #0087ff; text-decoration-color: #0087ff\">BatchNormalization</span>)            │                        │               │\n",
       "├─────────────────────────────────┼────────────────────────┼───────────────┤\n",
       "│ leaky_re_lu_2 (<span style=\"color: #0087ff; text-decoration-color: #0087ff\">LeakyReLU</span>)       │ (<span style=\"color: #00d7ff; text-decoration-color: #00d7ff\">None</span>, <span style=\"color: #00af00; text-decoration-color: #00af00\">21</span>, <span style=\"color: #00af00; text-decoration-color: #00af00\">117</span>, <span style=\"color: #00af00; text-decoration-color: #00af00\">32</span>)    │             <span style=\"color: #00af00; text-decoration-color: #00af00\">0</span> │\n",
       "├─────────────────────────────────┼────────────────────────┼───────────────┤\n",
       "│ max_pooling2d_2 (<span style=\"color: #0087ff; text-decoration-color: #0087ff\">MaxPooling2D</span>)  │ (<span style=\"color: #00d7ff; text-decoration-color: #00d7ff\">None</span>, <span style=\"color: #00af00; text-decoration-color: #00af00\">10</span>, <span style=\"color: #00af00; text-decoration-color: #00af00\">58</span>, <span style=\"color: #00af00; text-decoration-color: #00af00\">32</span>)     │             <span style=\"color: #00af00; text-decoration-color: #00af00\">0</span> │\n",
       "├─────────────────────────────────┼────────────────────────┼───────────────┤\n",
       "│ flatten (<span style=\"color: #0087ff; text-decoration-color: #0087ff\">Flatten</span>)               │ (<span style=\"color: #00d7ff; text-decoration-color: #00d7ff\">None</span>, <span style=\"color: #00af00; text-decoration-color: #00af00\">18560</span>)          │             <span style=\"color: #00af00; text-decoration-color: #00af00\">0</span> │\n",
       "├─────────────────────────────────┼────────────────────────┼───────────────┤\n",
       "│ dense (<span style=\"color: #0087ff; text-decoration-color: #0087ff\">Dense</span>)                   │ (<span style=\"color: #00d7ff; text-decoration-color: #00d7ff\">None</span>, <span style=\"color: #00af00; text-decoration-color: #00af00\">32</span>)             │       <span style=\"color: #00af00; text-decoration-color: #00af00\">593,952</span> │\n",
       "├─────────────────────────────────┼────────────────────────┼───────────────┤\n",
       "│ batch_normalization_3           │ (<span style=\"color: #00d7ff; text-decoration-color: #00d7ff\">None</span>, <span style=\"color: #00af00; text-decoration-color: #00af00\">32</span>)             │           <span style=\"color: #00af00; text-decoration-color: #00af00\">128</span> │\n",
       "│ (<span style=\"color: #0087ff; text-decoration-color: #0087ff\">BatchNormalization</span>)            │                        │               │\n",
       "├─────────────────────────────────┼────────────────────────┼───────────────┤\n",
       "│ leaky_re_lu_3 (<span style=\"color: #0087ff; text-decoration-color: #0087ff\">LeakyReLU</span>)       │ (<span style=\"color: #00d7ff; text-decoration-color: #00d7ff\">None</span>, <span style=\"color: #00af00; text-decoration-color: #00af00\">32</span>)             │             <span style=\"color: #00af00; text-decoration-color: #00af00\">0</span> │\n",
       "├─────────────────────────────────┼────────────────────────┼───────────────┤\n",
       "│ dense_1 (<span style=\"color: #0087ff; text-decoration-color: #0087ff\">Dense</span>)                 │ (<span style=\"color: #00d7ff; text-decoration-color: #00d7ff\">None</span>, <span style=\"color: #00af00; text-decoration-color: #00af00\">16</span>)             │           <span style=\"color: #00af00; text-decoration-color: #00af00\">528</span> │\n",
       "├─────────────────────────────────┼────────────────────────┼───────────────┤\n",
       "│ batch_normalization_4           │ (<span style=\"color: #00d7ff; text-decoration-color: #00d7ff\">None</span>, <span style=\"color: #00af00; text-decoration-color: #00af00\">16</span>)             │            <span style=\"color: #00af00; text-decoration-color: #00af00\">64</span> │\n",
       "│ (<span style=\"color: #0087ff; text-decoration-color: #0087ff\">BatchNormalization</span>)            │                        │               │\n",
       "├─────────────────────────────────┼────────────────────────┼───────────────┤\n",
       "│ leaky_re_lu_4 (<span style=\"color: #0087ff; text-decoration-color: #0087ff\">LeakyReLU</span>)       │ (<span style=\"color: #00d7ff; text-decoration-color: #00d7ff\">None</span>, <span style=\"color: #00af00; text-decoration-color: #00af00\">16</span>)             │             <span style=\"color: #00af00; text-decoration-color: #00af00\">0</span> │\n",
       "└─────────────────────────────────┴────────────────────────┴───────────────┘\n",
       "</pre>\n"
      ],
      "text/plain": [
       "┏━━━━━━━━━━━━━━━━━━━━━━━━━━━━━━━━━┳━━━━━━━━━━━━━━━━━━━━━━━━┳━━━━━━━━━━━━━━━┓\n",
       "┃\u001b[1m \u001b[0m\u001b[1mLayer (type)                   \u001b[0m\u001b[1m \u001b[0m┃\u001b[1m \u001b[0m\u001b[1mOutput Shape          \u001b[0m\u001b[1m \u001b[0m┃\u001b[1m \u001b[0m\u001b[1m      Param #\u001b[0m\u001b[1m \u001b[0m┃\n",
       "┡━━━━━━━━━━━━━━━━━━━━━━━━━━━━━━━━━╇━━━━━━━━━━━━━━━━━━━━━━━━╇━━━━━━━━━━━━━━━┩\n",
       "│ sensordata (\u001b[38;5;33mInputLayer\u001b[0m)         │ (\u001b[38;5;45mNone\u001b[0m, \u001b[38;5;34m128\u001b[0m, \u001b[38;5;34m512\u001b[0m, \u001b[38;5;34m3\u001b[0m)    │             \u001b[38;5;34m0\u001b[0m │\n",
       "├─────────────────────────────────┼────────────────────────┼───────────────┤\n",
       "│ conv2d (\u001b[38;5;33mConv2D\u001b[0m)                 │ (\u001b[38;5;45mNone\u001b[0m, \u001b[38;5;34m122\u001b[0m, \u001b[38;5;34m506\u001b[0m, \u001b[38;5;34m8\u001b[0m)    │         \u001b[38;5;34m1,184\u001b[0m │\n",
       "├─────────────────────────────────┼────────────────────────┼───────────────┤\n",
       "│ batch_normalization             │ (\u001b[38;5;45mNone\u001b[0m, \u001b[38;5;34m122\u001b[0m, \u001b[38;5;34m506\u001b[0m, \u001b[38;5;34m8\u001b[0m)    │            \u001b[38;5;34m32\u001b[0m │\n",
       "│ (\u001b[38;5;33mBatchNormalization\u001b[0m)            │                        │               │\n",
       "├─────────────────────────────────┼────────────────────────┼───────────────┤\n",
       "│ leaky_re_lu (\u001b[38;5;33mLeakyReLU\u001b[0m)         │ (\u001b[38;5;45mNone\u001b[0m, \u001b[38;5;34m122\u001b[0m, \u001b[38;5;34m506\u001b[0m, \u001b[38;5;34m8\u001b[0m)    │             \u001b[38;5;34m0\u001b[0m │\n",
       "├─────────────────────────────────┼────────────────────────┼───────────────┤\n",
       "│ max_pooling2d (\u001b[38;5;33mMaxPooling2D\u001b[0m)    │ (\u001b[38;5;45mNone\u001b[0m, \u001b[38;5;34m61\u001b[0m, \u001b[38;5;34m253\u001b[0m, \u001b[38;5;34m8\u001b[0m)     │             \u001b[38;5;34m0\u001b[0m │\n",
       "├─────────────────────────────────┼────────────────────────┼───────────────┤\n",
       "│ conv2d_1 (\u001b[38;5;33mConv2D\u001b[0m)               │ (\u001b[38;5;45mNone\u001b[0m, \u001b[38;5;34m55\u001b[0m, \u001b[38;5;34m247\u001b[0m, \u001b[38;5;34m16\u001b[0m)    │         \u001b[38;5;34m6,288\u001b[0m │\n",
       "├─────────────────────────────────┼────────────────────────┼───────────────┤\n",
       "│ batch_normalization_1           │ (\u001b[38;5;45mNone\u001b[0m, \u001b[38;5;34m55\u001b[0m, \u001b[38;5;34m247\u001b[0m, \u001b[38;5;34m16\u001b[0m)    │            \u001b[38;5;34m64\u001b[0m │\n",
       "│ (\u001b[38;5;33mBatchNormalization\u001b[0m)            │                        │               │\n",
       "├─────────────────────────────────┼────────────────────────┼───────────────┤\n",
       "│ leaky_re_lu_1 (\u001b[38;5;33mLeakyReLU\u001b[0m)       │ (\u001b[38;5;45mNone\u001b[0m, \u001b[38;5;34m55\u001b[0m, \u001b[38;5;34m247\u001b[0m, \u001b[38;5;34m16\u001b[0m)    │             \u001b[38;5;34m0\u001b[0m │\n",
       "├─────────────────────────────────┼────────────────────────┼───────────────┤\n",
       "│ max_pooling2d_1 (\u001b[38;5;33mMaxPooling2D\u001b[0m)  │ (\u001b[38;5;45mNone\u001b[0m, \u001b[38;5;34m27\u001b[0m, \u001b[38;5;34m123\u001b[0m, \u001b[38;5;34m16\u001b[0m)    │             \u001b[38;5;34m0\u001b[0m │\n",
       "├─────────────────────────────────┼────────────────────────┼───────────────┤\n",
       "│ conv2d_2 (\u001b[38;5;33mConv2D\u001b[0m)               │ (\u001b[38;5;45mNone\u001b[0m, \u001b[38;5;34m21\u001b[0m, \u001b[38;5;34m117\u001b[0m, \u001b[38;5;34m32\u001b[0m)    │        \u001b[38;5;34m25,120\u001b[0m │\n",
       "├─────────────────────────────────┼────────────────────────┼───────────────┤\n",
       "│ batch_normalization_2           │ (\u001b[38;5;45mNone\u001b[0m, \u001b[38;5;34m21\u001b[0m, \u001b[38;5;34m117\u001b[0m, \u001b[38;5;34m32\u001b[0m)    │           \u001b[38;5;34m128\u001b[0m │\n",
       "│ (\u001b[38;5;33mBatchNormalization\u001b[0m)            │                        │               │\n",
       "├─────────────────────────────────┼────────────────────────┼───────────────┤\n",
       "│ leaky_re_lu_2 (\u001b[38;5;33mLeakyReLU\u001b[0m)       │ (\u001b[38;5;45mNone\u001b[0m, \u001b[38;5;34m21\u001b[0m, \u001b[38;5;34m117\u001b[0m, \u001b[38;5;34m32\u001b[0m)    │             \u001b[38;5;34m0\u001b[0m │\n",
       "├─────────────────────────────────┼────────────────────────┼───────────────┤\n",
       "│ max_pooling2d_2 (\u001b[38;5;33mMaxPooling2D\u001b[0m)  │ (\u001b[38;5;45mNone\u001b[0m, \u001b[38;5;34m10\u001b[0m, \u001b[38;5;34m58\u001b[0m, \u001b[38;5;34m32\u001b[0m)     │             \u001b[38;5;34m0\u001b[0m │\n",
       "├─────────────────────────────────┼────────────────────────┼───────────────┤\n",
       "│ flatten (\u001b[38;5;33mFlatten\u001b[0m)               │ (\u001b[38;5;45mNone\u001b[0m, \u001b[38;5;34m18560\u001b[0m)          │             \u001b[38;5;34m0\u001b[0m │\n",
       "├─────────────────────────────────┼────────────────────────┼───────────────┤\n",
       "│ dense (\u001b[38;5;33mDense\u001b[0m)                   │ (\u001b[38;5;45mNone\u001b[0m, \u001b[38;5;34m32\u001b[0m)             │       \u001b[38;5;34m593,952\u001b[0m │\n",
       "├─────────────────────────────────┼────────────────────────┼───────────────┤\n",
       "│ batch_normalization_3           │ (\u001b[38;5;45mNone\u001b[0m, \u001b[38;5;34m32\u001b[0m)             │           \u001b[38;5;34m128\u001b[0m │\n",
       "│ (\u001b[38;5;33mBatchNormalization\u001b[0m)            │                        │               │\n",
       "├─────────────────────────────────┼────────────────────────┼───────────────┤\n",
       "│ leaky_re_lu_3 (\u001b[38;5;33mLeakyReLU\u001b[0m)       │ (\u001b[38;5;45mNone\u001b[0m, \u001b[38;5;34m32\u001b[0m)             │             \u001b[38;5;34m0\u001b[0m │\n",
       "├─────────────────────────────────┼────────────────────────┼───────────────┤\n",
       "│ dense_1 (\u001b[38;5;33mDense\u001b[0m)                 │ (\u001b[38;5;45mNone\u001b[0m, \u001b[38;5;34m16\u001b[0m)             │           \u001b[38;5;34m528\u001b[0m │\n",
       "├─────────────────────────────────┼────────────────────────┼───────────────┤\n",
       "│ batch_normalization_4           │ (\u001b[38;5;45mNone\u001b[0m, \u001b[38;5;34m16\u001b[0m)             │            \u001b[38;5;34m64\u001b[0m │\n",
       "│ (\u001b[38;5;33mBatchNormalization\u001b[0m)            │                        │               │\n",
       "├─────────────────────────────────┼────────────────────────┼───────────────┤\n",
       "│ leaky_re_lu_4 (\u001b[38;5;33mLeakyReLU\u001b[0m)       │ (\u001b[38;5;45mNone\u001b[0m, \u001b[38;5;34m16\u001b[0m)             │             \u001b[38;5;34m0\u001b[0m │\n",
       "└─────────────────────────────────┴────────────────────────┴───────────────┘\n"
      ]
     },
     "metadata": {},
     "output_type": "display_data"
    },
    {
     "data": {
      "text/html": [
       "<pre style=\"white-space:pre;overflow-x:auto;line-height:normal;font-family:Menlo,'DejaVu Sans Mono',consolas,'Courier New',monospace\"><span style=\"font-weight: bold\"> Total params: </span><span style=\"color: #00af00; text-decoration-color: #00af00\">627,488</span> (2.39 MB)\n",
       "</pre>\n"
      ],
      "text/plain": [
       "\u001b[1m Total params: \u001b[0m\u001b[38;5;34m627,488\u001b[0m (2.39 MB)\n"
      ]
     },
     "metadata": {},
     "output_type": "display_data"
    },
    {
     "data": {
      "text/html": [
       "<pre style=\"white-space:pre;overflow-x:auto;line-height:normal;font-family:Menlo,'DejaVu Sans Mono',consolas,'Courier New',monospace\"><span style=\"font-weight: bold\"> Trainable params: </span><span style=\"color: #00af00; text-decoration-color: #00af00\">0</span> (0.00 B)\n",
       "</pre>\n"
      ],
      "text/plain": [
       "\u001b[1m Trainable params: \u001b[0m\u001b[38;5;34m0\u001b[0m (0.00 B)\n"
      ]
     },
     "metadata": {},
     "output_type": "display_data"
    },
    {
     "data": {
      "text/html": [
       "<pre style=\"white-space:pre;overflow-x:auto;line-height:normal;font-family:Menlo,'DejaVu Sans Mono',consolas,'Courier New',monospace\"><span style=\"font-weight: bold\"> Non-trainable params: </span><span style=\"color: #00af00; text-decoration-color: #00af00\">627,488</span> (2.39 MB)\n",
       "</pre>\n"
      ],
      "text/plain": [
       "\u001b[1m Non-trainable params: \u001b[0m\u001b[38;5;34m627,488\u001b[0m (2.39 MB)\n"
      ]
     },
     "metadata": {},
     "output_type": "display_data"
    }
   ],
   "source": [
    "dst.summary()"
   ]
  },
  {
   "cell_type": "code",
   "execution_count": 13,
   "id": "1e1ddb27-1927-4bff-900d-8d181f2623a2",
   "metadata": {},
   "outputs": [],
   "source": [
    "X_train_scal = np.array(list(map(compute_scalogram, X_train)))\n",
    "X_train_normal = normalize_axis(X_train_scal, X_train_scal)\n",
    "\n",
    "X_val_scal = np.array(list(map(compute_scalogram, X_val)))\n",
    "X_val_normal = normalize_axis(X_val_scal, X_train_scal)\n",
    "\n",
    "#X_test_scal = np.array(list(map(compute_scalogram, X_test)))\n",
    "#X_test_normal = normalize_axis(X_test_scal, X_train_scal)))"
   ]
  },
  {
   "cell_type": "code",
   "execution_count": 14,
   "id": "44295ad5-be48-4076-b03c-9021415cf718",
   "metadata": {},
   "outputs": [
    {
     "name": "stdout",
     "output_type": "stream",
     "text": [
      "\u001b[1m3/3\u001b[0m \u001b[32m━━━━━━━━━━━━━━━━━━━━\u001b[0m\u001b[37m\u001b[0m \u001b[1m3s\u001b[0m 566ms/step\n"
     ]
    }
   ],
   "source": [
    "output = dst.predict(X_train_normal)"
   ]
  },
  {
   "cell_type": "code",
   "execution_count": 22,
   "id": "1de58860-c05b-48db-b7f3-47c3e3aec765",
   "metadata": {},
   "outputs": [],
   "source": [
    "from scipy.stats import gaussian_kde\n",
    "\n",
    "mean = np.mean(output, axis = 0)\n",
    "cov = np.cov(output.T)\n",
    "inv_cov = np.linalg.inv(cov)\n",
    "\n",
    "t2_scores = []\n",
    "for t2 in output:\n",
    "    t2_scores.append(float((t2 - mean).T @ inv_cov @ (t2 - mean)))\n",
    "\n",
    "t2_scores = np.array(t2_scores)\n",
    "\n",
    "def K(x):\n",
    "    return np.exp(-x**2/2)/np.sqrt(2*np.pi)\n",
    "\n",
    "h = 3\n",
    "totalsum = 0\n",
    "for t2 in t2_scores:\n",
    "    totalsum += K((t2_scores - t2) /h)\n",
    "\n",
    "\n",
    "phi = (1 / (85 * 3)) * totalsum"
   ]
  },
  {
   "cell_type": "code",
   "execution_count": 23,
   "id": "7863ccfc-5719-4d76-97cd-86fecb2599ea",
   "metadata": {},
   "outputs": [],
   "source": [
    "ucl = np.quantile(phi, 0.99)"
   ]
  },
  {
   "cell_type": "code",
   "execution_count": 24,
   "id": "29e743ab-8e74-458a-871b-01b6365cc571",
   "metadata": {},
   "outputs": [
    {
     "name": "stdout",
     "output_type": "stream",
     "text": [
      "\u001b[1m1/1\u001b[0m \u001b[32m━━━━━━━━━━━━━━━━━━━━\u001b[0m\u001b[37m\u001b[0m \u001b[1m1s\u001b[0m 1s/step\n"
     ]
    }
   ],
   "source": [
    "val_output = dst.predict(X_val_normal)\n",
    "t2_scores_val = []\n",
    "for x in val_output:\n",
    "    t2_scores_val.append(float((x - mean).T @ inv_cov @ (x - mean)))\n",
    "t2_scores_val = np.array(t2_scores_val)\n",
    "preds = []\n",
    "\n",
    "h = 3\n",
    "totalsumval = 0\n",
    "for t2 in t2_scores_val:\n",
    "    totalsumval += K((t2_scores_val - t2) /h)\n",
    "phi_val = (1 / (14 * 3)) * totalsumval\n",
    "\n",
    "for score in phi_val:\n",
    "    if score> ucl:\n",
    "        preds.append(1)\n",
    "    else:\n",
    "        preds.append(0)"
   ]
  },
  {
   "cell_type": "code",
   "execution_count": 25,
   "id": "74609283-08c8-4b6e-91a4-c7898b969b89",
   "metadata": {},
   "outputs": [
    {
     "data": {
      "text/plain": [
       "[1, 1, 1, 1, 1, 0, 1, 0, 1, 0, 1, 1, 0, 1]"
      ]
     },
     "execution_count": 25,
     "metadata": {},
     "output_type": "execute_result"
    }
   ],
   "source": [
    "preds"
   ]
  },
  {
   "cell_type": "code",
   "execution_count": 26,
   "id": "2e4e4fc9-028b-4c1b-8af7-d8c4829f6ce6",
   "metadata": {},
   "outputs": [
    {
     "data": {
      "text/plain": [
       "array([0, 1, 0, 0, 0, 0, 1, 0, 0, 0, 0, 1, 0, 0])"
      ]
     },
     "execution_count": 26,
     "metadata": {},
     "output_type": "execute_result"
    }
   ],
   "source": [
    "y_val"
   ]
  }
 ],
 "metadata": {
  "kernelspec": {
   "display_name": "Python 3 (ipykernel)",
   "language": "python",
   "name": "python3"
  },
  "language_info": {
   "codemirror_mode": {
    "name": "ipython",
    "version": 3
   },
   "file_extension": ".py",
   "mimetype": "text/x-python",
   "name": "python",
   "nbconvert_exporter": "python",
   "pygments_lexer": "ipython3",
   "version": "3.12.3"
  }
 },
 "nbformat": 4,
 "nbformat_minor": 5
}

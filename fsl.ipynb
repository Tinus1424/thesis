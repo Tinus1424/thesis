{
 "cells": [
  {
   "cell_type": "code",
   "execution_count": 8,
   "id": "65a365fe-fb60-4404-9813-f173eb55cc2a",
   "metadata": {},
   "outputs": [],
   "source": [
    "from main import *\n",
    "from sklearn.model_selection import train_test_split\n",
    "\n",
    "import keras\n",
    "import tensorflow as tf\n",
    "from tensorflow.keras import layers, models\n",
    "from sklearn.utils import shuffle\n",
    "\n",
    "from tensorflow.keras import layers, callbacks\n",
    "from tensorflow.keras.optimizers import Adam\n",
    "from tensorflow.keras.optimizers.schedules import CosineDecay\n",
    "from tensorflow.keras.utils import to_categorical\n",
    "\n",
    "\n",
    "SHORT = False"
   ]
  },
  {
   "cell_type": "code",
   "execution_count": 9,
   "id": "e22589b8-655d-4e12-8526-8afe99755dae",
   "metadata": {},
   "outputs": [],
   "source": [
    "if SHORT == True:\n",
    "    machines = [\"M01\", \"M02\", \"M03\"]\n",
    "    process_names = [\"OP01\", \"OP02\",\"OP07\"]\n",
    "else:\n",
    "    machines = [\"M01\", \"M02\",\"M03\"]\n",
    "    process_names = [\"OP00\",\"OP01\",\"OP02\",\"OP03\",\"OP04\",\"OP05\",\"OP06\",\"OP07\",\"OP08\",\"OP09\",\"OP10\",\"OP11\",\"OP12\",\"OP13\",\"OP14\"]\n",
    "\n",
    "labels = [\"good\", \"bad\"]\n",
    "path_to_dataset = Path(\"./data/\").absolute()"
   ]
  },
  {
   "cell_type": "code",
   "execution_count": 10,
   "id": "ed402d95-e1d7-400c-be59-d919b52be198",
   "metadata": {},
   "outputs": [],
   "source": [
    "X_data = []\n",
    "y_data = []\n",
    "\n",
    "for process_name, machine, label in itertools.product(process_names, machines, labels):\n",
    "    data_path = os.path.join(path_to_dataset, machine, process_name, label)\n",
    "    data_list, data_label = data_loader_utils.load_tool_research_data(data_path, label=label, add_additional_label = True, verbose = False)\n",
    "    #concatenating\n",
    "    X_data.extend(data_list)\n",
    "    y_data.extend(data_label)"
   ]
  },
  {
   "cell_type": "code",
   "execution_count": 11,
   "id": "db0c9529-fd8a-46c1-9ec9-b7aac3ada273",
   "metadata": {},
   "outputs": [],
   "source": [
    "X = [x.astype(np.float64) for x in X_data] # Ensure all examples have the same datatype\n",
    "X = np.array([x[:4096, :3] for x in X]) # Select the first 4096 timesteps of all three dimensions for each row\n",
    "y = np.array([0 if id.split(\"_\")[-1] == \"good\" else 1 for id in y_data])"
   ]
  },
  {
   "cell_type": "code",
   "execution_count": 7,
   "id": "96e30e50-d0b0-411c-8c3c-12584ac69246",
   "metadata": {},
   "outputs": [
    {
     "data": {
      "text/plain": [
       "432"
      ]
     },
     "execution_count": 7,
     "metadata": {},
     "output_type": "execute_result"
    }
   ],
   "source": [
    "len(X)"
   ]
  }
 ],
 "metadata": {
  "kernelspec": {
   "display_name": "Python 3 (ipykernel)",
   "language": "python",
   "name": "python3"
  },
  "language_info": {
   "codemirror_mode": {
    "name": "ipython",
    "version": 3
   },
   "file_extension": ".py",
   "mimetype": "text/x-python",
   "name": "python",
   "nbconvert_exporter": "python",
   "pygments_lexer": "ipython3",
   "version": "3.12.3"
  }
 },
 "nbformat": 4,
 "nbformat_minor": 5
}

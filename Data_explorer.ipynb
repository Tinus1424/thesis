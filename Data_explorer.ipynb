{
 "cells": [
  {
   "cell_type": "code",
   "execution_count": 1,
   "metadata": {
    "pycharm": {
     "name": "#%%\n"
    }
   },
   "outputs": [],
   "source": [
    "from main import *"
   ]
  },
  {
   "cell_type": "code",
   "execution_count": 2,
   "metadata": {
    "pycharm": {
     "name": "#%%\n"
    }
   },
   "outputs": [],
   "source": [
    "machines = [\"M01\" ,\"M02\",\"M03\"]\n",
    "process_names = [\"OP00\",\"OP01\",\"OP02\",\"OP03\",\"OP04\",\"OP05\",\"OP06\",\"OP07\",\"OP08\",\"OP09\",\"OP10\",\"OP11\",\"OP12\",\"OP13\",\"OP14\"]\n",
    "labels = [\"good\",\"bad\"]\n",
    "path_to_dataset = Path(\"./data/\").absolute()"
   ]
  },
  {
   "cell_type": "code",
   "execution_count": 3,
   "metadata": {
    "pycharm": {
     "name": "#%%\n"
    },
    "scrolled": true
   },
   "outputs": [
    {
     "name": "stdout",
     "output_type": "stream",
     "text": [
      "loading files from /home/tinus/workspace/thesis/data/M01/OP00/good... \n",
      "skipping /home/tinus/workspace/thesis/data/M01/OP00/bad empty directory...\n",
      "loading files from /home/tinus/workspace/thesis/data/M01/OP00/bad... \n",
      "loading files from /home/tinus/workspace/thesis/data/M02/OP00/good... \n",
      "loading files from /home/tinus/workspace/thesis/data/M02/OP00/bad... \n",
      "loading files from /home/tinus/workspace/thesis/data/M03/OP00/good... \n",
      "skipping /home/tinus/workspace/thesis/data/M03/OP00/bad empty directory...\n",
      "loading files from /home/tinus/workspace/thesis/data/M03/OP00/bad... \n",
      "loading files from /home/tinus/workspace/thesis/data/M01/OP01/good... \n",
      "loading files from /home/tinus/workspace/thesis/data/M01/OP01/bad... \n",
      "loading files from /home/tinus/workspace/thesis/data/M02/OP01/good... \n",
      "loading files from /home/tinus/workspace/thesis/data/M02/OP01/bad... \n",
      "loading files from /home/tinus/workspace/thesis/data/M03/OP01/good... \n",
      "loading files from /home/tinus/workspace/thesis/data/M03/OP01/bad... \n",
      "loading files from /home/tinus/workspace/thesis/data/M01/OP02/good... \n",
      "loading files from /home/tinus/workspace/thesis/data/M01/OP02/bad... \n",
      "loading files from /home/tinus/workspace/thesis/data/M02/OP02/good... \n",
      "loading files from /home/tinus/workspace/thesis/data/M02/OP02/bad... \n",
      "loading files from /home/tinus/workspace/thesis/data/M03/OP02/good... \n",
      "loading files from /home/tinus/workspace/thesis/data/M03/OP02/bad... \n",
      "loading files from /home/tinus/workspace/thesis/data/M01/OP03/good... \n",
      "loading files from /home/tinus/workspace/thesis/data/M01/OP03/bad... \n",
      "loading files from /home/tinus/workspace/thesis/data/M02/OP03/good... \n",
      "loading files from /home/tinus/workspace/thesis/data/M02/OP03/bad... \n",
      "loading files from /home/tinus/workspace/thesis/data/M03/OP03/good... \n",
      "skipping /home/tinus/workspace/thesis/data/M03/OP03/bad empty directory...\n",
      "loading files from /home/tinus/workspace/thesis/data/M03/OP03/bad... \n",
      "loading files from /home/tinus/workspace/thesis/data/M01/OP04/good... \n",
      "loading files from /home/tinus/workspace/thesis/data/M01/OP04/bad... \n",
      "loading files from /home/tinus/workspace/thesis/data/M02/OP04/good... \n",
      "loading files from /home/tinus/workspace/thesis/data/M02/OP04/bad... \n",
      "loading files from /home/tinus/workspace/thesis/data/M03/OP04/good... \n",
      "loading files from /home/tinus/workspace/thesis/data/M03/OP04/bad... \n",
      "loading files from /home/tinus/workspace/thesis/data/M01/OP05/good... \n",
      "loading files from /home/tinus/workspace/thesis/data/M01/OP05/bad... \n",
      "loading files from /home/tinus/workspace/thesis/data/M02/OP05/good... \n",
      "loading files from /home/tinus/workspace/thesis/data/M02/OP05/bad... \n",
      "loading files from /home/tinus/workspace/thesis/data/M03/OP05/good... \n",
      "skipping /home/tinus/workspace/thesis/data/M03/OP05/bad empty directory...\n",
      "loading files from /home/tinus/workspace/thesis/data/M03/OP05/bad... \n",
      "loading files from /home/tinus/workspace/thesis/data/M01/OP06/good... \n",
      "loading files from /home/tinus/workspace/thesis/data/M01/OP06/bad... \n",
      "loading files from /home/tinus/workspace/thesis/data/M02/OP06/good... \n",
      "skipping /home/tinus/workspace/thesis/data/M02/OP06/bad empty directory...\n",
      "loading files from /home/tinus/workspace/thesis/data/M02/OP06/bad... \n",
      "loading files from /home/tinus/workspace/thesis/data/M03/OP06/good... \n",
      "skipping /home/tinus/workspace/thesis/data/M03/OP06/bad empty directory...\n",
      "loading files from /home/tinus/workspace/thesis/data/M03/OP06/bad... \n",
      "loading files from /home/tinus/workspace/thesis/data/M01/OP07/good... \n",
      "loading files from /home/tinus/workspace/thesis/data/M01/OP07/bad... \n",
      "loading files from /home/tinus/workspace/thesis/data/M02/OP07/good... \n",
      "loading files from /home/tinus/workspace/thesis/data/M02/OP07/bad... \n",
      "loading files from /home/tinus/workspace/thesis/data/M03/OP07/good... \n",
      "loading files from /home/tinus/workspace/thesis/data/M03/OP07/bad... \n",
      "loading files from /home/tinus/workspace/thesis/data/M01/OP08/good... \n",
      "loading files from /home/tinus/workspace/thesis/data/M01/OP08/bad... \n",
      "loading files from /home/tinus/workspace/thesis/data/M02/OP08/good... \n",
      "loading files from /home/tinus/workspace/thesis/data/M02/OP08/bad... \n",
      "loading files from /home/tinus/workspace/thesis/data/M03/OP08/good... \n",
      "skipping /home/tinus/workspace/thesis/data/M03/OP08/bad empty directory...\n",
      "loading files from /home/tinus/workspace/thesis/data/M03/OP08/bad... \n",
      "loading files from /home/tinus/workspace/thesis/data/M01/OP09/good... \n",
      "loading files from /home/tinus/workspace/thesis/data/M01/OP09/bad... \n",
      "loading files from /home/tinus/workspace/thesis/data/M02/OP09/good... \n",
      "skipping /home/tinus/workspace/thesis/data/M02/OP09/bad empty directory...\n",
      "loading files from /home/tinus/workspace/thesis/data/M02/OP09/bad... \n",
      "loading files from /home/tinus/workspace/thesis/data/M03/OP09/good... \n",
      "skipping /home/tinus/workspace/thesis/data/M03/OP09/bad empty directory...\n",
      "loading files from /home/tinus/workspace/thesis/data/M03/OP09/bad... \n",
      "loading files from /home/tinus/workspace/thesis/data/M01/OP10/good... \n",
      "loading files from /home/tinus/workspace/thesis/data/M01/OP10/bad... \n",
      "loading files from /home/tinus/workspace/thesis/data/M02/OP10/good... \n",
      "loading files from /home/tinus/workspace/thesis/data/M02/OP10/bad... \n",
      "loading files from /home/tinus/workspace/thesis/data/M03/OP10/good... \n",
      "loading files from /home/tinus/workspace/thesis/data/M03/OP10/bad... \n",
      "loading files from /home/tinus/workspace/thesis/data/M01/OP11/good... \n",
      "loading files from /home/tinus/workspace/thesis/data/M01/OP11/bad... \n",
      "loading files from /home/tinus/workspace/thesis/data/M02/OP11/good... \n",
      "loading files from /home/tinus/workspace/thesis/data/M02/OP11/bad... \n",
      "loading files from /home/tinus/workspace/thesis/data/M03/OP11/good... \n",
      "skipping /home/tinus/workspace/thesis/data/M03/OP11/bad empty directory...\n",
      "loading files from /home/tinus/workspace/thesis/data/M03/OP11/bad... \n",
      "loading files from /home/tinus/workspace/thesis/data/M01/OP12/good... \n",
      "loading files from /home/tinus/workspace/thesis/data/M01/OP12/bad... \n",
      "loading files from /home/tinus/workspace/thesis/data/M02/OP12/good... \n",
      "loading files from /home/tinus/workspace/thesis/data/M02/OP12/bad... \n",
      "loading files from /home/tinus/workspace/thesis/data/M03/OP12/good... \n",
      "skipping /home/tinus/workspace/thesis/data/M03/OP12/bad empty directory...\n",
      "loading files from /home/tinus/workspace/thesis/data/M03/OP12/bad... \n",
      "loading files from /home/tinus/workspace/thesis/data/M01/OP13/good... \n",
      "skipping /home/tinus/workspace/thesis/data/M01/OP13/bad empty directory...\n",
      "loading files from /home/tinus/workspace/thesis/data/M01/OP13/bad... \n",
      "loading files from /home/tinus/workspace/thesis/data/M02/OP13/good... \n",
      "skipping /home/tinus/workspace/thesis/data/M02/OP13/bad empty directory...\n",
      "loading files from /home/tinus/workspace/thesis/data/M02/OP13/bad... \n",
      "loading files from /home/tinus/workspace/thesis/data/M03/OP13/good... \n",
      "skipping /home/tinus/workspace/thesis/data/M03/OP13/bad empty directory...\n",
      "loading files from /home/tinus/workspace/thesis/data/M03/OP13/bad... \n",
      "loading files from /home/tinus/workspace/thesis/data/M01/OP14/good... \n",
      "loading files from /home/tinus/workspace/thesis/data/M01/OP14/bad... \n",
      "loading files from /home/tinus/workspace/thesis/data/M02/OP14/good... \n",
      "loading files from /home/tinus/workspace/thesis/data/M02/OP14/bad... \n",
      "skipping /home/tinus/workspace/thesis/data/M03/OP14/good empty directory...\n",
      "loading files from /home/tinus/workspace/thesis/data/M03/OP14/good... \n",
      "skipping /home/tinus/workspace/thesis/data/M03/OP14/bad empty directory...\n",
      "loading files from /home/tinus/workspace/thesis/data/M03/OP14/bad... \n"
     ]
    }
   ],
   "source": [
    "X_data = []\n",
    "y_data = []\n",
    "\n",
    "for process_name, machine, label in itertools.product(process_names, machines, labels):\n",
    "    data_path = os.path.join(path_to_dataset, machine, process_name, label)\n",
    "    data_list, data_label = data_loader_utils.load_tool_research_data(data_path, label=label, add_additional_label = True)\n",
    "    #concatenating\n",
    "    X_data.extend(data_list)\n",
    "    y_data.extend(data_label)"
   ]
  },
  {
   "cell_type": "code",
   "execution_count": 4,
   "metadata": {},
   "outputs": [],
   "source": [
    "X_p, y_p, features_p = preprocess_data(X_data, y_data)"
   ]
  },
  {
   "cell_type": "code",
   "execution_count": null,
   "metadata": {},
   "outputs": [],
   "source": [
    "X, y, features = window_data(X_p, y_p, features_p, 4096)"
   ]
  },
  {
   "cell_type": "code",
   "execution_count": null,
   "metadata": {},
   "outputs": [],
   "source": [
    "ynew_reshaped = ynew.reshape((-1, 1))\n",
    "plots = np.hstack((fnew, ynew_reshaped))\n",
    "\n",
    "for machine in np.unique(fnew[:, 0]):\n",
    "    indices = np.where(plots[:, 0] == machine)\n",
    "    machineplots = plots[indices]\n",
    "    counts = {operation: {'0s': 0, '1s': 0} for operation in np.unique(machineplots[:, 3])}\n",
    "    \n",
    "    for value, operation in zip(machineplots[:, -1], machineplots[:, 3]):\n",
    "        if value == \"1.0\":\n",
    "            counts[operation]['1s'] += 1\n",
    "        else:\n",
    "            counts[operation]['0s'] += 1\n",
    "    \n",
    "    labels = list(counts.keys())\n",
    "    count_zeros = [counts[label]['0s'] for label in labels]\n",
    "    count_ones = [counts[label]['1s'] for label in labels]\n",
    "    \n",
    "    fig, ax = plt.subplots(figsize=(20, 5))\n",
    "    \n",
    "    bars1 = ax.bar(labels, count_zeros, label=\"NOK\", color=\"red\")\n",
    "    bars2 = ax.bar(labels, count_ones, bottom=count_zeros, label='OK', color=\"blue\")  # Stack on top of 0s\n",
    "    \n",
    "    ax.set_xlabel(\"Operations\")\n",
    "    ax.set_ylabel(\"Counts\")\n",
    "    ax.set_title(f'Counts of OK/NOK for {machine}')\n",
    "    ax.legend()\n",
    "    plt.show()"
   ]
  },
  {
   "cell_type": "code",
   "execution_count": null,
   "metadata": {},
   "outputs": [],
   "source": []
  }
 ],
 "metadata": {
  "kernelspec": {
   "display_name": "Python 3 (ipykernel)",
   "language": "python",
   "name": "python3"
  },
  "language_info": {
   "codemirror_mode": {
    "name": "ipython",
    "version": 3
   },
   "file_extension": ".py",
   "mimetype": "text/x-python",
   "name": "python",
   "nbconvert_exporter": "python",
   "pygments_lexer": "ipython3",
   "version": "3.10.12"
  }
 },
 "nbformat": 4,
 "nbformat_minor": 4
}

{
 "cells": [
  {
   "cell_type": "code",
   "execution_count": 2,
   "metadata": {
    "pycharm": {
     "name": "#%%\n"
    }
   },
   "outputs": [],
   "source": [
    "import os\n",
    "from pathlib import Path\n",
    "import data_loader_utils\n",
    "import itertools \n",
    "import numpy as np\n",
    "from numba import njit"
   ]
  },
  {
   "cell_type": "code",
   "execution_count": 3,
   "metadata": {
    "pycharm": {
     "name": "#%%\n"
    }
   },
   "outputs": [],
   "source": [
    "machines = [\"M01\"] #,\"M02\",\"M03\"]\n",
    "process_names = [\"OP00\",\"OP01\",\"OP02\",\"OP03\",\"OP04\",\"OP05\",\"OP06\",\"OP07\",\"OP08\",\"OP09\",\"OP10\",\"OP11\",\"OP12\",\"OP13\",\"OP14\"]\n",
    "labels = [\"good\",\"bad\"]\n",
    "path_to_dataset = Path(\"./data/\").absolute()"
   ]
  },
  {
   "cell_type": "code",
   "execution_count": 4,
   "metadata": {
    "pycharm": {
     "name": "#%%\n"
    },
    "scrolled": true
   },
   "outputs": [
    {
     "name": "stdout",
     "output_type": "stream",
     "text": [
      "loading files from /home/tinus/workspace/thesis/data/M01/OP00/good... \n",
      "skipping /home/tinus/workspace/thesis/data/M01/OP00/bad empty directory...\n",
      "loading files from /home/tinus/workspace/thesis/data/M01/OP00/bad... \n",
      "loading files from /home/tinus/workspace/thesis/data/M01/OP01/good... \n",
      "loading files from /home/tinus/workspace/thesis/data/M01/OP01/bad... \n",
      "loading files from /home/tinus/workspace/thesis/data/M01/OP02/good... \n",
      "loading files from /home/tinus/workspace/thesis/data/M01/OP02/bad... \n",
      "loading files from /home/tinus/workspace/thesis/data/M01/OP03/good... \n",
      "loading files from /home/tinus/workspace/thesis/data/M01/OP03/bad... \n",
      "loading files from /home/tinus/workspace/thesis/data/M01/OP04/good... \n",
      "loading files from /home/tinus/workspace/thesis/data/M01/OP04/bad... \n",
      "loading files from /home/tinus/workspace/thesis/data/M01/OP05/good... \n",
      "loading files from /home/tinus/workspace/thesis/data/M01/OP05/bad... \n",
      "loading files from /home/tinus/workspace/thesis/data/M01/OP06/good... \n",
      "loading files from /home/tinus/workspace/thesis/data/M01/OP06/bad... \n",
      "loading files from /home/tinus/workspace/thesis/data/M01/OP07/good... \n",
      "loading files from /home/tinus/workspace/thesis/data/M01/OP07/bad... \n",
      "loading files from /home/tinus/workspace/thesis/data/M01/OP08/good... \n",
      "loading files from /home/tinus/workspace/thesis/data/M01/OP08/bad... \n",
      "loading files from /home/tinus/workspace/thesis/data/M01/OP09/good... \n",
      "loading files from /home/tinus/workspace/thesis/data/M01/OP09/bad... \n",
      "loading files from /home/tinus/workspace/thesis/data/M01/OP10/good... \n",
      "loading files from /home/tinus/workspace/thesis/data/M01/OP10/bad... \n",
      "loading files from /home/tinus/workspace/thesis/data/M01/OP11/good... \n",
      "loading files from /home/tinus/workspace/thesis/data/M01/OP11/bad... \n",
      "loading files from /home/tinus/workspace/thesis/data/M01/OP12/good... \n",
      "loading files from /home/tinus/workspace/thesis/data/M01/OP12/bad... \n",
      "loading files from /home/tinus/workspace/thesis/data/M01/OP13/good... \n",
      "skipping /home/tinus/workspace/thesis/data/M01/OP13/bad empty directory...\n",
      "loading files from /home/tinus/workspace/thesis/data/M01/OP13/bad... \n",
      "loading files from /home/tinus/workspace/thesis/data/M01/OP14/good... \n",
      "loading files from /home/tinus/workspace/thesis/data/M01/OP14/bad... \n"
     ]
    }
   ],
   "source": [
    "X_data = []\n",
    "y_data = []\n",
    "\n",
    "for process_name, machine, label in itertools.product(process_names, machines, labels):\n",
    "    data_path = os.path.join(path_to_dataset, machine, process_name, label)\n",
    "    data_list, data_label = data_loader_utils.load_tool_research_data(data_path, label=label, add_additional_label = True)\n",
    "    #concatenating\n",
    "    X_data.extend(data_list)\n",
    "    y_data.extend(data_label)"
   ]
  },
  {
   "cell_type": "code",
   "execution_count": 5,
   "metadata": {
    "editable": true,
    "scrolled": true,
    "slideshow": {
     "slide_type": ""
    },
    "tags": []
   },
   "outputs": [],
   "source": [
    "y_split = [y.split(\"_\") for y in y_data] # Split the Machine, Month, Year, Process, ExampleId, Target\n",
    "y_np = np.array(y_split) # Convert to np for easier indexing\n",
    "ytarget = y_np[:, -1] # Extract target value\n",
    "xadd = list(y_np[:,:-1]) # Extract additional information"
   ]
  },
  {
   "cell_type": "code",
   "execution_count": 6,
   "metadata": {},
   "outputs": [],
   "source": [
    "y = [1 if \"good\" in y else 0 for y in ytarget] # List of y values"
   ]
  },
  {
   "cell_type": "code",
   "execution_count": 7,
   "metadata": {
    "scrolled": true
   },
   "outputs": [],
   "source": [
    "X = [X.astype(np.float32) for X in X_data] # List of X values in the same dtype"
   ]
  },
  {
   "cell_type": "code",
   "execution_count": 8,
   "metadata": {},
   "outputs": [],
   "source": [
    "@njit\n",
    "def get_data(X, y, window_size):\n",
    "    npX = np.empty((0, 3, window_size))\n",
    "    npy = np.empty((0, ))\n",
    "    for example in zip(X, y):\n",
    "        \n",
    "        modulo = example[0].shape[0] % window_size\n",
    "        floor = example[0].shape[0] // window_size\n",
    "        \n",
    "        if modulo > 0: \n",
    "            appendX = example[0][:-modulo,:].copy()\n",
    "        else:\n",
    "            appendX = example[0].copy()\n",
    "            \n",
    "        appendX = np.reshape(appendX, (floor, 3, window_size))\n",
    "        npX = np.concatenate((npX, appendX))\n",
    "        \n",
    "        if example[1] == 0:\n",
    "            npy = np.concatenate((npy, np.zeros(floor)))\n",
    "        else:\n",
    "            npy = np.concatenate((npy, np.ones(floor)))\n",
    "\n",
    "        \n",
    "    return npX, npy"
   ]
  },
  {
   "cell_type": "code",
   "execution_count": null,
   "metadata": {},
   "outputs": [],
   "source": [
    "Xnew, ynew = get_data(X, y, 4096)"
   ]
  },
  {
   "cell_type": "code",
   "execution_count": null,
   "metadata": {},
   "outputs": [],
   "source": []
  }
 ],
 "metadata": {
  "kernelspec": {
   "display_name": "Python 3 (ipykernel)",
   "language": "python",
   "name": "python3"
  },
  "language_info": {
   "codemirror_mode": {
    "name": "ipython",
    "version": 3
   },
   "file_extension": ".py",
   "mimetype": "text/x-python",
   "name": "python",
   "nbconvert_exporter": "python",
   "pygments_lexer": "ipython3",
   "version": "3.10.12"
  }
 },
 "nbformat": 4,
 "nbformat_minor": 4
}

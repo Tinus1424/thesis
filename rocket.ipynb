{
 "cells": [
  {
   "cell_type": "code",
   "execution_count": 2,
   "metadata": {
    "pycharm": {
     "name": "#%%\n"
    }
   },
   "outputs": [],
   "source": [
    "from main import *\n",
    "\n",
    "\n",
    "from sklearn.pipeline import Pipeline\n",
    "from sktime.transformations.panel.tsfresh import TSFreshFeatureExtractor\n",
    "from sktime.classification.sklearn import RotationForest\n",
    "\n",
    "\n",
    "from sktime.pipeline import make_pipeline\n",
    "from sktime.transformations.panel.rocket import MiniRocketMultivariate\n",
    "from sklearn.linear_model import LogisticRegression\n",
    "\n",
    "from sktime.classification.interval_based import DrCIF\n",
    "from sktime.classification.shapelet_based import ShapeletTransformClassifier\n",
    "from sktime.classification.dictionary_based import TemporalDictionaryEnsemble\n",
    "from sktime.classification.deep_learning import InceptionTimeClassifier\n",
    "\n",
    "import warnings\n",
    "warnings.filterwarnings(\"ignore\", category=DeprecationWarning)\n",
    "warnings.filterwarnings(\"ignore\", category=FutureWarning)\n",
    "warnings.filterwarnings(\"ignore\", category=UserWarning)"
   ]
  },
  {
   "cell_type": "code",
   "execution_count": 3,
   "metadata": {
    "pycharm": {
     "name": "#%%\n"
    }
   },
   "outputs": [],
   "source": [
    "machines = [\"M01\", \"M02\",\"M03\"]\n",
    "process_names = [\"OP00\",\"OP01\",\"OP02\",\"OP03\",\"OP04\",\"OP05\",\"OP06\",\"OP07\",\"OP08\",\"OP09\",\"OP10\",\"OP11\",\"OP12\",\"OP13\",\"OP14\"]\n",
    "labels = [\"good\",\"bad\"]\n",
    "path_to_dataset = Path(\"./data/\").absolute()"
   ]
  },
  {
   "cell_type": "code",
   "execution_count": 4,
   "metadata": {
    "pycharm": {
     "name": "#%%\n"
    },
    "scrolled": true
   },
   "outputs": [],
   "source": [
    "X_data = []\n",
    "y_data = []\n",
    "\n",
    "for process_name, machine, label in itertools.product(process_names, machines, labels):\n",
    "    data_path = os.path.join(path_to_dataset, machine, process_name, label)\n",
    "    data_list, data_label = data_loader_utils.load_tool_research_data(data_path, label=label, add_additional_label = True, verbose = False)\n",
    "    X_data.extend(data_list)\n",
    "    y_data.extend(data_label)\n",
    "\n",
    "df = get_df(X_data, y_data)"
   ]
  },
  {
   "cell_type": "code",
   "execution_count": null,
   "metadata": {},
   "outputs": [],
   "source": [
    "rotf = RotationForest(n_jobs = -1) \n",
    "\n",
    "param_grid_rotf = {\n",
    "    \"n_estimators\": [50, 200]\n",
    "    }\n",
    "\n",
    "results_rotf, objects_rotf = get_uni_cv_results(rotf, param_grid_rotf, df)\n",
    "\n",
    "with open(\"cv_results/rotf.pkl\", \"wb\") as f: \n",
    "    pickle.dump(results_rotf, f)"
   ]
  },
  {
   "cell_type": "code",
   "execution_count": null,
   "metadata": {
    "scrolled": true
   },
   "outputs": [],
   "source": [
    "fp = Pipeline([\n",
    "    (\n",
    "        \"transform\",\n",
    "        TSFreshFeatureExtractor(\n",
    "            default_fc_parameters=\"efficient\",\n",
    "            show_warnings = False),\n",
    "    ),\n",
    "    (\"classifier\", RotationForest ()),\n",
    "])\n",
    "\n",
    "param_grid_fp = {\n",
    "    \"classifier__n_estimators\": [50, 200]\n",
    "    }\n",
    "\n",
    "cv_results_fp, gs_objects_fp = get_cv_results(fp, param_grid_fp, df)\n",
    "\n",
    "with open(\"cv_results/fp.pkl\", \"wb\") as f:\n",
    "    pickle.dump(cv_results_fp, f)"
   ]
  },
  {
   "cell_type": "code",
   "execution_count": null,
   "metadata": {
    "scrolled": true
   },
   "outputs": [],
   "source": [
    "drcif = DrCIF(time_limit_in_minutes = 10, n_jobs = -1)\n",
    "\n",
    "param_grid_drcif = {\n",
    "    \"att_subsample_size\": [5, 10], # 10 is default and 5 is half of the default\n",
    "}\n",
    "\n",
    "cv_results_drcif, gs_objects_drcif = get_cv_results(drcif, param_grid_drcif, df)\n",
    "\n",
    "with open(\"cv_results/drcif.pkl\", \"wb\") as f:\n",
    "    pickle.dump(cv_results_drcif, f)"
   ]
  },
  {
   "cell_type": "code",
   "execution_count": 7,
   "metadata": {},
   "outputs": [
    {
     "name": "stdout",
     "output_type": "stream",
     "text": [
      "Hyperparameter tuning on machine-wise split...\n",
      "Hyperparameter tuning on time-wise split...\n",
      "Hyperparameter tuning on operation-wise split...\n"
     ]
    }
   ],
   "source": [
    "trf = RandomShapeletTransform(time_limit_in_minutes = 10, n_jobs = -1)\n",
    "clf = RotationForest(n_jobs = -1)\n",
    "\n",
    "stc = Pipeline([(\"transform\", trf), (\"classifier\", clf)])\n",
    "\n",
    "param_grid_stc = {\n",
    "    \"transform__n_shapelet_samples\": [1000],\n",
    "    \"classifier__n_estimators\": [50, 200]\n",
    "} \n",
    "\n",
    "cv_results_stc, gs_objects_stc = get_cv_results(stc, param_grid_stc, df)\n",
    "\n",
    "with open (\"cv_results/stc.pkl\", \"wb\") as f:\n",
    "    pickle.dump(cv_results_stc, f)"
   ]
  },
  {
   "cell_type": "code",
   "execution_count": 5,
   "metadata": {},
   "outputs": [
    {
     "name": "stdout",
     "output_type": "stream",
     "text": [
      "Hyperparameter tuning on machine-wise split...\n",
      "Hyperparameter tuning on time-wise split...\n",
      "Hyperparameter tuning on operation-wise split...\n"
     ]
    }
   ],
   "source": [
    "tde = TemporalDictionaryEnsemble(max_win_len_prop= 0.5, time_limit_in_minutes = 10, contract_max_n_parameter_samples = 100, n_jobs = 1) # To reduce memory overhead\n",
    "\n",
    "param_grid_tde = {\n",
    "    \"max_ensemble_size\" : [5, 25],\n",
    "    \"randomly_selected_params\" : [5, 25]\n",
    "}\n",
    "\n",
    "cv_results_tde, gs_objects_tde = get_cv_results(tde, param_grid_tde, df)\n",
    "\n",
    "with open(\"cv_results/tde.pkl\", \"wb\") as f: \n",
    "    pickle.dump(cv_results_tde, f)"
   ]
  },
  {
   "cell_type": "code",
   "execution_count": null,
   "metadata": {},
   "outputs": [],
   "source": [
    "trf = MiniRocketMultivariate(n_jobs = 1) \n",
    "clf = LogisticRegression(solver = \"liblinear\", n_jobs = 1)\n",
    "        \n",
    "MiniRocketLR = make_pipeline(trf, clf)\n",
    "\n",
    "param_grid_MiniRocketLR = {\n",
    "    \"num_kernels\" : [1000, 10000],\n",
    "    'C': [0.01, 0.1, 1, 10, 100]\n",
    "}\n",
    "\n",
    "cv_results_mr, gs_objects_mr = get_cv_results(MiniRocketLR, param_grid_MiniRocketLR, df)\n",
    "\n",
    "with open(\"cv_results/mr.pkl\", \"wb\") as f:\n",
    "    pickle.dump(cv_results_mr, f)"
   ]
  },
  {
   "cell_type": "code",
   "execution_count": null,
   "metadata": {},
   "outputs": [],
   "source": [
    "itc = InceptionTimeClassifier(n_epochs = 50, batch_size = 16, metrics = [\"f1_score\"])\n",
    "\n",
    "param_grid_itc = {\n",
    "    \"n_filters\" : [6, 32, 64],\n",
    "}\n",
    "\n",
    "cv_results_itc, gs_objects_itc = get_cv_results(itc, param_grid_itc, df, n_jobs = 1)\n",
    "\n",
    "with open(\"cv_results/itc.pkl\", \"wb\") as f: \n",
    "    pickle.dump(cv_results_itc, f)"
   ]
  },
  {
   "cell_type": "code",
   "execution_count": 16,
   "metadata": {},
   "outputs": [
    {
     "data": {
      "text/html": [
       "<div>\n",
       "<style scoped>\n",
       "    .dataframe tbody tr th:only-of-type {\n",
       "        vertical-align: middle;\n",
       "    }\n",
       "\n",
       "    .dataframe tbody tr th {\n",
       "        vertical-align: top;\n",
       "    }\n",
       "\n",
       "    .dataframe thead th {\n",
       "        text-align: right;\n",
       "    }\n",
       "</style>\n",
       "<table border=\"1\" class=\"dataframe\">\n",
       "  <thead>\n",
       "    <tr style=\"text-align: right;\">\n",
       "      <th></th>\n",
       "      <th>mean_fit_time</th>\n",
       "      <th>std_fit_time</th>\n",
       "      <th>mean_score_time</th>\n",
       "      <th>std_score_time</th>\n",
       "      <th>param_n_filters</th>\n",
       "      <th>params</th>\n",
       "      <th>split0_test_score</th>\n",
       "      <th>split1_test_score</th>\n",
       "      <th>split2_test_score</th>\n",
       "      <th>mean_test_score</th>\n",
       "      <th>std_test_score</th>\n",
       "      <th>rank_test_score</th>\n",
       "    </tr>\n",
       "  </thead>\n",
       "  <tbody>\n",
       "    <tr>\n",
       "      <th>0</th>\n",
       "      <td>58.578768</td>\n",
       "      <td>1.090924</td>\n",
       "      <td>5.659585</td>\n",
       "      <td>0.440732</td>\n",
       "      <td>6</td>\n",
       "      <td>{'n_filters': 6}</td>\n",
       "      <td>1.0</td>\n",
       "      <td>0.8</td>\n",
       "      <td>1.0</td>\n",
       "      <td>0.933333</td>\n",
       "      <td>0.094281</td>\n",
       "      <td>2</td>\n",
       "    </tr>\n",
       "    <tr>\n",
       "      <th>1</th>\n",
       "      <td>96.429901</td>\n",
       "      <td>1.789470</td>\n",
       "      <td>6.023480</td>\n",
       "      <td>0.471146</td>\n",
       "      <td>32</td>\n",
       "      <td>{'n_filters': 32}</td>\n",
       "      <td>1.0</td>\n",
       "      <td>1.0</td>\n",
       "      <td>1.0</td>\n",
       "      <td>1.000000</td>\n",
       "      <td>0.000000</td>\n",
       "      <td>1</td>\n",
       "    </tr>\n",
       "    <tr>\n",
       "      <th>2</th>\n",
       "      <td>25.679865</td>\n",
       "      <td>0.263504</td>\n",
       "      <td>0.000000</td>\n",
       "      <td>0.000000</td>\n",
       "      <td>64</td>\n",
       "      <td>{'n_filters': 64}</td>\n",
       "      <td>NaN</td>\n",
       "      <td>NaN</td>\n",
       "      <td>NaN</td>\n",
       "      <td>NaN</td>\n",
       "      <td>NaN</td>\n",
       "      <td>3</td>\n",
       "    </tr>\n",
       "  </tbody>\n",
       "</table>\n",
       "</div>"
      ],
      "text/plain": [
       "   mean_fit_time  std_fit_time  mean_score_time  std_score_time  \\\n",
       "0      58.578768      1.090924         5.659585        0.440732   \n",
       "1      96.429901      1.789470         6.023480        0.471146   \n",
       "2      25.679865      0.263504         0.000000        0.000000   \n",
       "\n",
       "   param_n_filters             params  split0_test_score  split1_test_score  \\\n",
       "0                6   {'n_filters': 6}                1.0                0.8   \n",
       "1               32  {'n_filters': 32}                1.0                1.0   \n",
       "2               64  {'n_filters': 64}                NaN                NaN   \n",
       "\n",
       "   split2_test_score  mean_test_score  std_test_score  rank_test_score  \n",
       "0                1.0         0.933333        0.094281                2  \n",
       "1                1.0         1.000000        0.000000                1  \n",
       "2                NaN              NaN             NaN                3  "
      ]
     },
     "execution_count": 16,
     "metadata": {},
     "output_type": "execute_result"
    }
   ],
   "source": [
    "pd.DataFrame(cv_results_itc[\"operation\"])"
   ]
  },
  {
   "cell_type": "code",
   "execution_count": null,
   "metadata": {},
   "outputs": [],
   "source": [
    "mr_mean_ranks, best_mr = extract_mean_rank(cv_results_mr)\n",
    "drcif_mean_ranks, best_drcif = extract_mean_rank(cv_results_drcif)\n",
    "itc_mean_ranks, best_itc = extract_mean_rank(cv_results_itc)\n",
    "tde_mean_ranks, best_tde = extract_mean_rank(cv_results_tde)"
   ]
  },
  {
   "cell_type": "code",
   "execution_count": null,
   "metadata": {},
   "outputs": [],
   "source": [
    "rotf = RotationForest(n_estimators = 200, n_jobs = -1) "
   ]
  },
  {
   "cell_type": "code",
   "execution_count": null,
   "metadata": {},
   "outputs": [],
   "source": [
    "fp = Pipeline([\n",
    "    (\n",
    "        \"transform\",\n",
    "        TSFreshFeatureExtractor(\n",
    "            default_fc_parameters=\"efficient\",\n",
    "            show_warnings = False),\n",
    "    ),\n",
    "    (\n",
    "        \"classifier\", \n",
    "         RotationForest(n_estimators = 50\n",
    "     )\n",
    "    ),\n",
    "])"
   ]
  },
  {
   "cell_type": "code",
   "execution_count": null,
   "metadata": {},
   "outputs": [],
   "source": [
    "trf = MiniRocketMultivariate(n_jobs = 1) \n",
    "clf = LogisticRegression(C = 0.01, penalty = \"l2\", solver = \"liblinear\", n_jobs = 1)\n",
    "MiniRocketLR = make_pipeline(trf, clf)"
   ]
  },
  {
   "cell_type": "code",
   "execution_count": null,
   "metadata": {},
   "outputs": [],
   "source": [
    "drcif = DrCIF(att_subsample_size = 5, time_limit_in_minutes = 10, n_jobs = -1)"
   ]
  },
  {
   "cell_type": "code",
   "execution_count": null,
   "metadata": {},
   "outputs": [],
   "source": [
    "tde = TemporalDictionaryEnsemble(max_ensemble_size = 50, n_parameter_samples = 50, randomly_selected_params = 50, time_limit_in_minutes = 1, n_jobs = -1)"
   ]
  },
  {
   "cell_type": "code",
   "execution_count": null,
   "metadata": {},
   "outputs": [],
   "source": [
    "itc = InceptionTimeClassifier(kernel_size = 10, n_filters = 6,n_epochs = 50, batch_size = 16)"
   ]
  },
  {
   "cell_type": "code",
   "execution_count": null,
   "metadata": {},
   "outputs": [],
   "source": [
    "test_mr, mr_objects = get_test_results(MiniRocketLR)"
   ]
  },
  {
   "cell_type": "code",
   "execution_count": null,
   "metadata": {},
   "outputs": [],
   "source": [
    "test_drcif, drcif_objects = get_test_results(drcif)"
   ]
  },
  {
   "cell_type": "code",
   "execution_count": null,
   "metadata": {},
   "outputs": [],
   "source": [
    "test_tde, tde_objects = get_test_results(tde)"
   ]
  },
  {
   "cell_type": "code",
   "execution_count": null,
   "metadata": {},
   "outputs": [],
   "source": [
    "test_itc, itc_objects = get_test_results(itc)"
   ]
  },
  {
   "cell_type": "code",
   "execution_count": null,
   "metadata": {},
   "outputs": [],
   "source": [
    "results = pd.DataFrame(\n",
    "    (\n",
    "        test_mr[\"model_f1\"], \n",
    "        test_drcif[\"model_f1\"], \n",
    "        test_tde[\"model_f1\"], \n",
    "        test_itc[\"model_f1\"], \n",
    "        test_fp[\"model_f1\"]\n",
    "    )\n",
    ")\n",
    "results[\"model\"] = [\"MR\", \"DrCIF\", \"TDE\", \"ITC\"]\n",
    "results = results.set_index(\"model\")\n",
    "results = results.rename(columns = {0: \"machine\", 1 : \"time\", 2: \"operation\"})\n",
    "results[\"avg\"] = results.mean(axis = 1)"
   ]
  },
  {
   "cell_type": "code",
   "execution_count": 13,
   "metadata": {},
   "outputs": [
    {
     "name": "stdout",
     "output_type": "stream",
     "text": [
      "8386560.0\n"
     ]
    }
   ],
   "source": [
    "print(4096*(4096-1)/2)"
   ]
  }
 ],
 "metadata": {
  "kernelspec": {
   "display_name": "Python 3 (ipykernel)",
   "language": "python",
   "name": "python3"
  },
  "language_info": {
   "codemirror_mode": {
    "name": "ipython",
    "version": 3
   },
   "file_extension": ".py",
   "mimetype": "text/x-python",
   "name": "python",
   "nbconvert_exporter": "python",
   "pygments_lexer": "ipython3",
   "version": "3.12.3"
  }
 },
 "nbformat": 4,
 "nbformat_minor": 4
}

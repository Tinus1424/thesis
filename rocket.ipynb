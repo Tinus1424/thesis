{
 "cells": [
  {
   "cell_type": "code",
   "execution_count": 1,
   "metadata": {
    "pycharm": {
     "name": "#%%\n"
    }
   },
   "outputs": [],
   "source": [
    "from main import *\n",
    "\n",
    "from sklearn.model_selection import train_test_split, StratifiedKFold\n",
    "\n",
    "from sktime.transformations.panel.rocket import MiniRocketMultivariate\n",
    "from sklearn.linear_model import LogisticRegression\n",
    "\n",
    "from sklearn.metrics import f1_score, recall_score, confusion_matrix, ConfusionMatrixDisplay"
   ]
  },
  {
   "cell_type": "code",
   "execution_count": 2,
   "metadata": {
    "pycharm": {
     "name": "#%%\n"
    }
   },
   "outputs": [],
   "source": [
    "machines = [\"M01\", \"M02\",\"M03\"]\n",
    "process_names = [\"OP00\",\"OP01\",\"OP02\",\"OP03\",\"OP04\",\"OP05\",\"OP06\",\"OP07\",\"OP08\",\"OP09\",\"OP10\",\"OP11\",\"OP12\",\"OP13\",\"OP14\"]\n",
    "labels = [\"good\",\"bad\"]\n",
    "path_to_dataset = Path(\"./data/\").absolute()"
   ]
  },
  {
   "cell_type": "code",
   "execution_count": 3,
   "metadata": {
    "pycharm": {
     "name": "#%%\n"
    },
    "scrolled": true
   },
   "outputs": [],
   "source": [
    "X_data = []\n",
    "y_data = []\n",
    "\n",
    "for process_name, machine, label in itertools.product(process_names, machines, labels):\n",
    "    data_path = os.path.join(path_to_dataset, machine, process_name, label)\n",
    "    data_list, data_label = data_loader_utils.load_tool_research_data(data_path, label=label, add_additional_label = True, verbose = False)\n",
    "    #concatenating\n",
    "    X_data.extend(data_list)\n",
    "    y_data.extend(data_label)"
   ]
  },
  {
   "cell_type": "code",
   "execution_count": 4,
   "metadata": {},
   "outputs": [],
   "source": [
    "X = [x.astype(np.float64) for x in X_data] # Ensure all examples have the same datatype\n",
    "X = np.array([x[:4096, :3] for x in X]) # Select the first 4096 timesteps of all three dimensions for each row\n",
    "y = np.array([0 if id.split(\"_\")[-1] == \"good\" else 1 for id in y_data])\n",
    "\n",
    "# Reshape X into a dataframe that is compatible with MiniRocket transform\n",
    "axis = [\"X-axis\", \"Y-axis\", \"Z-axis\"] \n",
    "axisdict = {\"X-axis\": [], \"Y-axis\":[],  \"Z-axis\":[]}\n",
    "for i, ax in enumerate(axis):\n",
    "    for n in range(X.shape[0]):\n",
    "        axisdict[ax].append(pd.Series(X[n][:,i]))\n",
    "\n",
    "X_df = pd.DataFrame(axisdict)\n",
    "\n",
    "a = [y.split(\"_\") for y in y_data]\n",
    "y_df = pd.DataFrame(a)\n",
    "df = X_df.join(y_df).rename(columns = {0: \"MC\", 1: \"MM\", 2: \"YY\", 3: \"OP\", 4: \"n\", 5: \"y\"})\n",
    "df[\"y\"] = df[\"y\"].apply(lambda x: 1 if x == \"bad\" else 0)"
   ]
  },
  {
   "cell_type": "code",
   "execution_count": null,
   "metadata": {},
   "outputs": [],
   "source": [
    "from sklearn.model_selection import GridSearchCV\n",
    "from sktime.classification.distance_based import KNeighborsTimeSeriesClassifier\n",
    "\n",
    "X_train, X_test, y_train, y_test = machine_split(df)\n",
    "\n",
    "\n",
    "knn = KNeighborsTimeSeriesClassifier(n_neighbors = 1, distance = \"dtw\", n_jobs = -1)\n",
    "knn.fit(X_train, y_train)\n",
    "y_pred = knn.predict(X_test)\n",
    "f1_score(y_pred, y_test)\n",
    "\n",
    "#param_grid = {\"n_neighbors\": [1, 5], \"distance\": [\"euclidean\", \"dtw\"]}\n",
    "#parameter_tuning_method = GridSearchCV(knn, param_grid, cv=StratifiedKFold(n_splits=4))\n",
    "\n",
    "#parameter_tuning_method.fit(X_train, y_train)\n",
    "#y_pred = parameter_tuning_method.predict(X_test)"
   ]
  },
  {
   "cell_type": "code",
   "execution_count": null,
   "metadata": {},
   "outputs": [],
   "source": []
  }
 ],
 "metadata": {
  "kernelspec": {
   "display_name": "Python 3 (ipykernel)",
   "language": "python",
   "name": "python3"
  },
  "language_info": {
   "codemirror_mode": {
    "name": "ipython",
    "version": 3
   },
   "file_extension": ".py",
   "mimetype": "text/x-python",
   "name": "python",
   "nbconvert_exporter": "python",
   "pygments_lexer": "ipython3",
   "version": "3.12.3"
  }
 },
 "nbformat": 4,
 "nbformat_minor": 4
}

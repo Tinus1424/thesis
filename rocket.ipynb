{
 "cells": [
  {
   "cell_type": "code",
   "execution_count": null,
   "metadata": {
    "pycharm": {
     "name": "#%%\n"
    }
   },
   "outputs": [],
   "source": [
    "from main import *\n",
    "\n",
    "from sklearn.metrics import f1_score, recall_score, confusion_matrix, ConfusionMatrixDisplay\n",
    "from sklearn.model_selection import train_test_split, StratifiedKFold, GridSearchCV, ParameterGrid\n",
    "\n",
    "from sklearn.pipeline import Pipeline\n",
    "from sktime.transformations.panel.tsfresh import TSFreshFeatureExtractor\n",
    "from sktime.classification.sklearn import RotationForest\n",
    "\n",
    "\n",
    "from sktime.pipeline import make_pipeline\n",
    "from sktime.transformations.panel.rocket import MiniRocketMultivariate\n",
    "from sklearn.linear_model import LogisticRegression\n",
    "\n",
    "from sktime.classification.interval_based import DrCIF\n",
    "from sktime.classification.shapelet_based import ShapeletTransformClassifier\n",
    "from sktime.classification.dictionary_based import TemporalDictionaryEnsemble\n",
    "from sktime.classification.deep_learning import InceptionTimeClassifier\n",
    "\n",
    "import warnings\n",
    "warnings.filterwarnings(\"ignore\", category=DeprecationWarning)"
   ]
  },
  {
   "cell_type": "code",
   "execution_count": null,
   "metadata": {
    "pycharm": {
     "name": "#%%\n"
    }
   },
   "outputs": [],
   "source": [
    "machines = [\"M01\", \"M02\",\"M03\"]\n",
    "process_names = [\"OP00\",\"OP01\",\"OP02\",\"OP03\",\"OP04\",\"OP05\",\"OP06\",\"OP07\",\"OP08\",\"OP09\",\"OP10\",\"OP11\",\"OP12\",\"OP13\",\"OP14\"]\n",
    "labels = [\"good\",\"bad\"]\n",
    "path_to_dataset = Path(\"./data/\").absolute()"
   ]
  },
  {
   "cell_type": "code",
   "execution_count": null,
   "metadata": {
    "pycharm": {
     "name": "#%%\n"
    },
    "scrolled": true
   },
   "outputs": [],
   "source": [
    "X_data = []\n",
    "y_data = []\n",
    "\n",
    "for process_name, machine, label in itertools.product(process_names, machines, labels):\n",
    "    data_path = os.path.join(path_to_dataset, machine, process_name, label)\n",
    "    data_list, data_label = data_loader_utils.load_tool_research_data(data_path, label=label, add_additional_label = True, verbose = False)\n",
    "    X_data.extend(data_list)\n",
    "    y_data.extend(data_label)\n",
    "\n",
    "df = get_df(X_data, y_data)"
   ]
  },
  {
   "cell_type": "code",
   "execution_count": null,
   "metadata": {},
   "outputs": [],
   "source": [
    "rotf = RotationForest(n_jobs = -1) \n",
    "\n",
    "param_grid_rotf = {\n",
    "    \"n_estimators\": [50, 200]\n",
    "    }\n",
    "\n",
    "results_rotf, objects_rotf = get_uni_cv_results(rotf, param_grid_rotf, df)\n",
    "\n",
    "with open(\"cv_results/rotf.pkl\", \"wb\") as f: \n",
    "    pickle.dump(results_rotf, f)"
   ]
  },
  {
   "cell_type": "code",
   "execution_count": null,
   "metadata": {
    "scrolled": true
   },
   "outputs": [],
   "source": [
    "fp = Pipeline([\n",
    "    (\n",
    "        \"transform\",\n",
    "        TSFreshFeatureExtractor(\n",
    "            default_fc_parameters=\"efficient\",\n",
    "            show_warnings = False),\n",
    "    ),\n",
    "    (\"classifier\", RotationForest ()),\n",
    "])\n",
    "\n",
    "param_grid_fp = {\n",
    "    \"classifier__n_estimators\": [50, 200]\n",
    "    }\n",
    "\n",
    "cv_results_fp, gs_objects_fp = get_cv_results(fp, param_grid_fp, df)\n",
    "\n",
    "with open(\"cv_results/fp.pkl\", \"wb\") as f:\n",
    "    pickle.dump(cv_results_fp, f)"
   ]
  },
  {
   "cell_type": "code",
   "execution_count": null,
   "metadata": {},
   "outputs": [],
   "source": [
    "drcif = DrCIF(time_limit_in_minutes = 10, n_jobs = -1)\n",
    "\n",
    "param_grid_drcif = {\n",
    "    \"att_subsample_size\": [5, 10, 20],       \n",
    "}\n",
    "\n",
    "cv_results_drcif, gs_objects_drcif = get_cv_results(drcif, param_grid_drcif, df)\n",
    "\n",
    "with open(\"cv_results/drcif.pkl\", \"wb\") as f:\n",
    "    pickle.dump(cv_results_drcif, f)"
   ]
  },
  {
   "cell_type": "code",
   "execution_count": null,
   "metadata": {},
   "outputs": [],
   "source": [
    "trf = MiniRocketMultivariate(n_jobs = 1) \n",
    "clf = LogisticRegression(solver = \"liblinear\", n_jobs = 1)\n",
    "        \n",
    "MiniRocketLR = make_pipeline(trf, clf)\n",
    "\n",
    "param_grid_MiniRocketLR = {\n",
    "    \"num_kernels\" : [1000, 10000],\n",
    "    'C': [0.01, 0.1, 1, 10, 100]\n",
    "}\n",
    "\n",
    "cv_results_mr, gs_objects_mr = get_cv_results(MiniRocketLR, param_grid_MiniRocketLR, df)\n",
    "\n",
    "with open(\"cv_results/mr.pkl\", \"wb\") as f:\n",
    "    pickle.dump(cv_results_mr, f)"
   ]
  },
  {
   "cell_type": "code",
   "execution_count": null,
   "metadata": {},
   "outputs": [],
   "source": [
    "tde = TemporalDictionaryEnsemble(time_limit_in_minutes = 1, n_jobs = -1)\n",
    "\n",
    "param_grid_tde = {\n",
    "    \"n_parameter_samples\" : [50, 250],\n",
    "    \"max_ensemble_size\" : [5, 50],\n",
    "    \"randomly_selected_params\" : [5, 50]\n",
    "}\n",
    "\n",
    "cv_results_tde, gs_objects_tde = get_cv_results(tde, param_grid_tde, df)\n",
    "\n",
    "with open(\"cv_results/tde.pkl\", \"wb\") as f: \n",
    "    pickle.dump(cv_results_tde, f)"
   ]
  },
  {
   "cell_type": "code",
   "execution_count": null,
   "metadata": {},
   "outputs": [],
   "source": [
    "itc = InceptionTimeClassifier(n_epochs = 50, batch_size = 16)\n",
    "\n",
    "param_grid_itc = {\n",
    "    \"kernel_size\" : [10, 40],\n",
    "    \"n_filters\" : [6, 32],\n",
    "}\n",
    "\n",
    "cv_results_itc, gs_objects_itc = get_cv_results(itc, param_grid_itc, df, n_jobs = 1)\n",
    "\n",
    "with open(\"cv_results/itc.pkl\", \"wb\") as f: \n",
    "    pickle.dump(cv_results_itc, f)"
   ]
  },
  {
   "cell_type": "code",
   "execution_count": null,
   "metadata": {},
   "outputs": [],
   "source": [
    "mr_mean_ranks, best_mr = extract_mean_rank(cv_results_mr)\n",
    "drcif_mean_ranks, best_drcif = extract_mean_rank(cv_results_drcif)\n",
    "itc_mean_ranks, best_itc = extract_mean_rank(cv_results_itc)\n",
    "tde_mean_ranks, best_tde = extract_mean_rank(cv_results_tde)"
   ]
  },
  {
   "cell_type": "code",
   "execution_count": null,
   "metadata": {},
   "outputs": [],
   "source": [
    "rotf = RotationForest(n_estimators = 200, n_jobs = -1) "
   ]
  },
  {
   "cell_type": "code",
   "execution_count": null,
   "metadata": {},
   "outputs": [],
   "source": [
    "fp = Pipeline([\n",
    "    (\n",
    "        \"transform\",\n",
    "        TSFreshFeatureExtractor(\n",
    "            default_fc_parameters=\"efficient\",\n",
    "            show_warnings = False),\n",
    "    ),\n",
    "    (\n",
    "        \"classifier\", \n",
    "         RotationForest(\n",
    "     )\n",
    "    ),\n",
    "])"
   ]
  },
  {
   "cell_type": "code",
   "execution_count": null,
   "metadata": {},
   "outputs": [],
   "source": [
    "trf = MiniRocketMultivariate(n_jobs = 1) \n",
    "clf = LogisticRegression(C = 0.01, penalty = \"l2\", solver = \"liblinear\", n_jobs = 1)\n",
    "MiniRocketLR = make_pipeline(trf, clf)"
   ]
  },
  {
   "cell_type": "code",
   "execution_count": null,
   "metadata": {},
   "outputs": [],
   "source": [
    "drcif = DrCIF(att_subsample_size = 5, time_limit_in_minutes = 10, n_jobs = -1)"
   ]
  },
  {
   "cell_type": "code",
   "execution_count": null,
   "metadata": {},
   "outputs": [],
   "source": [
    "tde = TemporalDictionaryEnsemble(max_ensemble_size = 50, n_parameter_samples = 50, randomly_selected_params = 50, time_limit_in_minutes = 1, n_jobs = -1)"
   ]
  },
  {
   "cell_type": "code",
   "execution_count": null,
   "metadata": {},
   "outputs": [],
   "source": [
    "itc = InceptionTimeClassifier(kernel_size = 10, n_filters = 6,n_epochs = 50, batch_size = 16)"
   ]
  },
  {
   "cell_type": "code",
   "execution_count": null,
   "metadata": {},
   "outputs": [],
   "source": [
    "test_mr, mr_objects = get_test_results(MiniRocketLR)"
   ]
  },
  {
   "cell_type": "code",
   "execution_count": null,
   "metadata": {},
   "outputs": [],
   "source": [
    "test_drcif, drcif_objects = get_test_results(drcif)"
   ]
  },
  {
   "cell_type": "code",
   "execution_count": null,
   "metadata": {},
   "outputs": [],
   "source": [
    "test_tde, tde_objects = get_test_results(tde)"
   ]
  },
  {
   "cell_type": "code",
   "execution_count": null,
   "metadata": {},
   "outputs": [],
   "source": [
    "test_itc, itc_objects = get_test_results(itc)"
   ]
  },
  {
   "cell_type": "code",
   "execution_count": null,
   "metadata": {},
   "outputs": [],
   "source": [
    "results = pd.DataFrame(\n",
    "    (\n",
    "        test_mr[\"model_f1\"], \n",
    "                        test_drcif[\"model_f1\"], \n",
    "                        test_tde[\"model_f1\"], \n",
    "                        test_itc[\"model_f1\"], \n",
    "                        test_fp[\"model_f1\"]\n",
    "    )\n",
    ")\n",
    "results[\"model\"] = [\"MR\", \"DrCIF\", \"TDE\", \"ITC\"]\n",
    "results = results.set_index(\"model\")\n",
    "results = results.rename(columns = {0: \"machine\", 1 : \"time\", 2: \"operation\"})\n",
    "results[\"avg\"] = results.mean(axis = 1)"
   ]
  }
 ],
 "metadata": {
  "kernelspec": {
   "display_name": "Python 3 (ipykernel)",
   "language": "python",
   "name": "python3"
  },
  "language_info": {
   "codemirror_mode": {
    "name": "ipython",
    "version": 3
   },
   "file_extension": ".py",
   "mimetype": "text/x-python",
   "name": "python",
   "nbconvert_exporter": "python",
   "pygments_lexer": "ipython3",
   "version": "3.12.3"
  }
 },
 "nbformat": 4,
 "nbformat_minor": 4
}

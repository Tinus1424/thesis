{
 "cells": [
  {
   "cell_type": "code",
   "execution_count": 1,
   "metadata": {
    "pycharm": {
     "name": "#%%\n"
    }
   },
   "outputs": [],
   "source": [
    "from main import *\n",
    "\n",
    "\n",
    "from sklearn.pipeline import Pipeline\n",
    "from sktime.transformations.panel.tsfresh import TSFreshFeatureExtractor\n",
    "from sktime.classification.sklearn import RotationForest\n",
    "\n",
    "\n",
    "from sktime.classification.kernel_based import RocketClassifier\n",
    "from sktime.pipeline import make_pipeline\n",
    "from sktime.transformations.panel.rocket import MiniRocketMultivariate\n",
    "from sklearn.linear_model import LogisticRegression\n",
    "\n",
    "from sktime.transformations.panel.shapelet_transform import RandomShapeletTransform\n",
    "\n",
    "from sktime.classification.interval_based import DrCIF\n",
    "from sktime.classification.shapelet_based import ShapeletTransformClassifier\n",
    "from sktime.classification.dictionary_based import TemporalDictionaryEnsemble\n",
    "from sktime.classification.deep_learning import InceptionTimeClassifier\n",
    "\n",
    "import warnings\n",
    "warnings.filterwarnings(\"ignore\", category=DeprecationWarning)\n",
    "warnings.filterwarnings(\"ignore\", category=FutureWarning)\n",
    "warnings.filterwarnings(\"ignore\", category=UserWarning)"
   ]
  },
  {
   "cell_type": "code",
   "execution_count": 2,
   "metadata": {
    "pycharm": {
     "name": "#%%\n"
    }
   },
   "outputs": [],
   "source": [
    "machines = [\"M01\", \"M02\",\"M03\"]\n",
    "process_names = [\"OP00\",\"OP01\",\"OP02\",\"OP03\",\"OP04\",\"OP05\",\"OP06\",\"OP07\",\"OP08\",\"OP09\",\"OP10\",\"OP11\",\"OP12\",\"OP13\",\"OP14\"]\n",
    "labels = [\"good\",\"bad\"]\n",
    "path_to_dataset = Path(\"./data/\").absolute()"
   ]
  },
  {
   "cell_type": "code",
   "execution_count": 3,
   "metadata": {
    "pycharm": {
     "name": "#%%\n"
    },
    "scrolled": true
   },
   "outputs": [],
   "source": [
    "X_data = []\n",
    "y_data = []\n",
    "\n",
    "for process_name, machine, label in itertools.product(process_names, machines, labels):\n",
    "    data_path = os.path.join(path_to_dataset, machine, process_name, label)\n",
    "    data_list, data_label = data_loader_utils.load_tool_research_data(data_path, label=label, add_additional_label = True, verbose = False)\n",
    "    X_data.extend(data_list)\n",
    "    y_data.extend(data_label)\n",
    "\n",
    "df = get_df(X_data, y_data)"
   ]
  },
  {
   "cell_type": "markdown",
   "metadata": {
    "jp-MarkdownHeadingCollapsed": true
   },
   "source": [
    "## Hyperparameter Tuning"
   ]
  },
  {
   "cell_type": "markdown",
   "metadata": {},
   "source": [
    "### FreshPRINCE"
   ]
  },
  {
   "cell_type": "code",
   "execution_count": null,
   "metadata": {
    "scrolled": true
   },
   "outputs": [],
   "source": [
    "fp = Pipeline([\n",
    "    (\n",
    "        \"transform\",\n",
    "        TSFreshFeatureExtractor(\n",
    "            default_fc_parameters=\"efficient\",\n",
    "            show_warnings = False),\n",
    "    ),\n",
    "    (\"classifier\", RotationForest ()),\n",
    "])\n",
    "\n",
    "param_grid_fp = {\n",
    "    \"classifier__n_estimators\": [50, 200]\n",
    "    }\n",
    "\n",
    "cv_results_fp, gs_objects_fp = get_cv_results(fp, param_grid_fp, df)\n",
    "\n",
    "with open(\"cv_results/fp.pkl\", \"wb\") as f:\n",
    "    pickle.dump(cv_results_fp, f)"
   ]
  },
  {
   "cell_type": "markdown",
   "metadata": {},
   "source": [
    "### DrCIF"
   ]
  },
  {
   "cell_type": "code",
   "execution_count": null,
   "metadata": {
    "scrolled": true
   },
   "outputs": [],
   "source": [
    "drcif = DrCIF(time_limit_in_minutes = 10, n_jobs = -1)\n",
    "\n",
    "param_grid_drcif = {\n",
    "    \"att_subsample_size\": [5, 10], # 10 is default and 5 is half of the default\n",
    "}\n",
    "\n",
    "cv_results_drcif, gs_objects_drcif = get_cv_results(drcif, param_grid_drcif, df)\n",
    "\n",
    "with open(\"cv_results/drcif.pkl\", \"wb\") as f:\n",
    "    pickle.dump(cv_results_drcif, f)"
   ]
  },
  {
   "cell_type": "markdown",
   "metadata": {},
   "source": [
    "### STC"
   ]
  },
  {
   "cell_type": "code",
   "execution_count": null,
   "metadata": {},
   "outputs": [],
   "source": [
    "trf = RandomShapeletTransform(time_limit_in_minutes = 10, n_jobs = -1)\n",
    "clf = RotationForest(n_jobs = -1)\n",
    "\n",
    "stc = Pipeline([(\"transform\", trf), (\"classifier\", clf)])\n",
    "\n",
    "param_grid_stc = {\n",
    "    \"transform__n_shapelet_samples\": [1000],\n",
    "    \"classifier__n_estimators\": [50, 200]\n",
    "} \n",
    "\n",
    "cv_results_stc, gs_objects_stc = get_cv_results(stc, param_grid_stc, df)\n",
    "\n",
    "with open (\"cv_results/stc.pkl\", \"wb\") as f:\n",
    "    pickle.dump(cv_results_stc, f)"
   ]
  },
  {
   "cell_type": "markdown",
   "metadata": {},
   "source": [
    "### TDE"
   ]
  },
  {
   "cell_type": "code",
   "execution_count": null,
   "metadata": {},
   "outputs": [],
   "source": [
    "tde = TemporalDictionaryEnsemble(max_win_len_prop= 0.5, time_limit_in_minutes = 10, contract_max_n_parameter_samples = 100, n_jobs = 1) # To reduce memory overhead\n",
    "\n",
    "param_grid_tde = {\n",
    "    \"max_ensemble_size\" : [5, 25],\n",
    "    \"randomly_selected_params\" : [5, 25]\n",
    "}\n",
    "\n",
    "cv_results_tde, gs_objects_tde = get_cv_results(tde, param_grid_tde, df)\n",
    "\n",
    "with open(\"cv_results/tde.pkl\", \"wb\") as f: \n",
    "    pickle.dump(cv_results_tde, f)"
   ]
  },
  {
   "cell_type": "markdown",
   "metadata": {},
   "source": [
    "### MR"
   ]
  },
  {
   "cell_type": "code",
   "execution_count": null,
   "metadata": {},
   "outputs": [],
   "source": [
    "trf = MiniRocketMultivariate(n_jobs = 1) \n",
    "clf = LogisticRegression(solver = \"liblinear\", n_jobs = 1)\n",
    "        \n",
    "MiniRocketLR = make_pipeline(trf, clf)\n",
    "\n",
    "param_grid_MiniRocketLR = {\n",
    "    \"num_kernels\" : [1000, 10000],\n",
    "    'C': [0.01, 0.1, 1, 10, 100]\n",
    "}\n",
    "\n",
    "cv_results_mr, gs_objects_mr = get_cv_results(MiniRocketLR, param_grid_MiniRocketLR, df)\n",
    "\n",
    "with open(\"cv_results/mr.pkl\", \"wb\") as f:\n",
    "    pickle.dump(cv_results_mr, f)"
   ]
  },
  {
   "cell_type": "markdown",
   "metadata": {},
   "source": [
    "### ITC"
   ]
  },
  {
   "cell_type": "code",
   "execution_count": null,
   "metadata": {},
   "outputs": [],
   "source": [
    "itc = InceptionTimeClassifier(n_epochs = 50, batch_size = 16, metrics = [\"f1_score\"])\n",
    "\n",
    "param_grid_itc = {\n",
    "    \"n_filters\" : [6, 32, 64],\n",
    "}\n",
    "\n",
    "cv_results_itc, gs_objects_itc = get_cv_results(itc, param_grid_itc, df, n_jobs = 1)\n",
    "\n",
    "with open(\"cv_results/itc.pkl\", \"wb\") as f: \n",
    "    pickle.dump(cv_results_itc, f)"
   ]
  },
  {
   "cell_type": "markdown",
   "metadata": {},
   "source": [
    "## Results"
   ]
  },
  {
   "cell_type": "code",
   "execution_count": 4,
   "metadata": {},
   "outputs": [],
   "source": [
    "with open(\"cv_results/fp.pkl\", \"rb\") as f:\n",
    "    cv_results_fp = pickle.load(f)\n",
    "\n",
    "with open(\"cv_results/drcif.pkl\", \"rb\") as f:\n",
    "    cv_results_drcif = pickle.load(f)\n",
    "\n",
    "with open(\"cv_results/stc.pkl\", \"rb\") as f:\n",
    "    cv_results_stc = pickle.load(f)\n",
    "\n",
    "with open(\"cv_results/tde.pkl\", \"rb\") as f:\n",
    "    cv_results_tde = pickle.load(f)\n",
    "\n",
    "with open(\"cv_results/mr.pkl\", \"rb\") as f:\n",
    "    cv_results_mr = pickle.load(f)\n",
    "\n",
    "with open(\"cv_results/itc.pkl\", \"rb\") as f:\n",
    "    cv_results_itc = pickle.load(f)"
   ]
  },
  {
   "cell_type": "code",
   "execution_count": 5,
   "metadata": {},
   "outputs": [],
   "source": [
    "fp_mean_ranks, best_fp = extract_mean_rank(cv_results_fp)\n",
    "drcif_mean_ranks, best_drcif = extract_mean_rank(cv_results_drcif)\n",
    "stc_mean_ranks, best_stc = extract_mean_rank(cv_results_stc)\n",
    "tde_mean_ranks, best_tde = extract_mean_rank(cv_results_tde)\n",
    "mr_mean_ranks, best_mr = extract_mean_rank(cv_results_mr)\n",
    "itc_mean_ranks, best_itc = extract_mean_rank(cv_results_itc)"
   ]
  },
  {
   "cell_type": "code",
   "execution_count": 6,
   "metadata": {},
   "outputs": [
    {
     "data": {
      "text/plain": [
       "{'classifier__n_estimators': 50}"
      ]
     },
     "execution_count": 6,
     "metadata": {},
     "output_type": "execute_result"
    }
   ],
   "source": [
    "best_fp"
   ]
  },
  {
   "cell_type": "code",
   "execution_count": 7,
   "metadata": {},
   "outputs": [],
   "source": [
    "fp = Pipeline([\n",
    "    (\n",
    "        \"transform\",\n",
    "        TSFreshFeatureExtractor(\n",
    "            default_fc_parameters=\"efficient\",\n",
    "            show_warnings = False),\n",
    "    ),\n",
    "    (\n",
    "        \"classifier\", \n",
    "         RotationForest(n_estimators = 50\n",
    "     )\n",
    "    ),\n",
    "])"
   ]
  },
  {
   "cell_type": "code",
   "execution_count": 8,
   "metadata": {},
   "outputs": [
    {
     "data": {
      "text/plain": [
       "{'att_subsample_size': 5}"
      ]
     },
     "execution_count": 8,
     "metadata": {},
     "output_type": "execute_result"
    }
   ],
   "source": [
    "best_drcif"
   ]
  },
  {
   "cell_type": "code",
   "execution_count": 9,
   "metadata": {},
   "outputs": [],
   "source": [
    "drcif = DrCIF(att_subsample_size = 5, time_limit_in_minutes = 10, n_jobs = -1)"
   ]
  },
  {
   "cell_type": "code",
   "execution_count": 10,
   "metadata": {},
   "outputs": [
    {
     "data": {
      "text/plain": [
       "{'classifier__n_estimators': 50, 'transform__n_shapelet_samples': 1000}"
      ]
     },
     "execution_count": 10,
     "metadata": {},
     "output_type": "execute_result"
    }
   ],
   "source": [
    "best_stc"
   ]
  },
  {
   "cell_type": "code",
   "execution_count": 11,
   "metadata": {},
   "outputs": [],
   "source": [
    "trf = RandomShapeletTransform(n_shapelet_samples = 1000, time_limit_in_minutes = 10, n_jobs = -1)\n",
    "clf = RotationForest(n_estimators = 50, n_jobs = -1)\n",
    "\n",
    "stc = Pipeline([(\"transform\", trf), (\"classifier\", clf)])"
   ]
  },
  {
   "cell_type": "code",
   "execution_count": 12,
   "metadata": {},
   "outputs": [
    {
     "data": {
      "text/plain": [
       "{'max_ensemble_size': 5, 'randomly_selected_params': 5}"
      ]
     },
     "execution_count": 12,
     "metadata": {},
     "output_type": "execute_result"
    }
   ],
   "source": [
    "best_tde"
   ]
  },
  {
   "cell_type": "code",
   "execution_count": 13,
   "metadata": {},
   "outputs": [],
   "source": [
    "tde = TemporalDictionaryEnsemble(max_ensemble_size = 5, \n",
    "                                 randomly_selected_params = 5, \n",
    "                                 max_win_len_prop= 0.5, # To reduce memory overhead\n",
    "                                 time_limit_in_minutes = 10, \n",
    "                                 contract_max_n_parameter_samples = 100, \n",
    "                                 n_jobs = 1) \n"
   ]
  },
  {
   "cell_type": "code",
   "execution_count": 14,
   "metadata": {},
   "outputs": [
    {
     "data": {
      "text/plain": [
       "{'C': 0.01, 'num_kernels': 1000}"
      ]
     },
     "execution_count": 14,
     "metadata": {},
     "output_type": "execute_result"
    }
   ],
   "source": [
    "best_mr"
   ]
  },
  {
   "cell_type": "code",
   "execution_count": 15,
   "metadata": {},
   "outputs": [],
   "source": [
    "trf = MiniRocketMultivariate(num_kernels = 1000, n_jobs = 1) \n",
    "clf = LogisticRegression(C = 0.01, solver = \"liblinear\", n_jobs = 1)\n",
    "        \n",
    "mr = make_pipeline(trf, clf)"
   ]
  },
  {
   "cell_type": "code",
   "execution_count": 16,
   "metadata": {},
   "outputs": [],
   "source": [
    "trf = MiniRocketMultivariate(n_jobs = 1) \n",
    "clf = LogisticRegression(n_jobs = 1)\n",
    "\n",
    "mr_baseline = make_pipeline(trf, clf)"
   ]
  },
  {
   "cell_type": "code",
   "execution_count": 17,
   "metadata": {},
   "outputs": [
    {
     "data": {
      "text/plain": [
       "{'n_filters': 32}"
      ]
     },
     "execution_count": 17,
     "metadata": {},
     "output_type": "execute_result"
    }
   ],
   "source": [
    "best_itc"
   ]
  },
  {
   "cell_type": "code",
   "execution_count": 18,
   "metadata": {},
   "outputs": [],
   "source": [
    "itc = InceptionTimeClassifier(n_filters = 32, n_epochs = 50, batch_size = 16, metrics = [\"f1_score\"])"
   ]
  },
  {
   "cell_type": "code",
   "execution_count": 19,
   "metadata": {},
   "outputs": [
    {
     "name": "stdout",
     "output_type": "stream",
     "text": [
      "Testing machine-wise split\n"
     ]
    },
    {
     "name": "stderr",
     "output_type": "stream",
     "text": [
      "Feature Extraction: 100%|███████████████████████████████████████████████████████████| 1044/1044 [06:44<00:00,  2.58it/s]\n",
      "Feature Extraction: 100%|███████████████████████████████████████████████████████████| 1044/1044 [07:17<00:00,  2.38it/s]\n",
      "Feature Extraction: 100%|███████████████████████████████████████████████████████████| 4062/4062 [28:17<00:00,  2.39it/s]\n"
     ]
    },
    {
     "name": "stdout",
     "output_type": "stream",
     "text": [
      "Testing time-wise split\n"
     ]
    },
    {
     "name": "stderr",
     "output_type": "stream",
     "text": [
      "Feature Extraction: 100%|███████████████████████████████████████████████████████████| 1110/1110 [09:15<00:00,  2.00it/s]\n",
      "Feature Extraction: 100%|███████████████████████████████████████████████████████████| 1110/1110 [09:38<00:00,  1.92it/s]\n",
      "Feature Extraction: 100%|███████████████████████████████████████████████████████████| 3996/3996 [28:00<00:00,  2.38it/s]\n"
     ]
    },
    {
     "name": "stdout",
     "output_type": "stream",
     "text": [
      "Testing operation-wise split\n"
     ]
    },
    {
     "name": "stderr",
     "output_type": "stream",
     "text": [
      "Feature Extraction: 100%|███████████████████████████████████████████████████████████| 1023/1023 [07:06<00:00,  2.40it/s]\n",
      "Feature Extraction: 100%|███████████████████████████████████████████████████████████| 1023/1023 [07:08<00:00,  2.39it/s]\n",
      "Feature Extraction: 100%|███████████████████████████████████████████████████████████| 4083/4083 [27:52<00:00,  2.44it/s]\n"
     ]
    }
   ],
   "source": [
    "test_fp, fp_objects = get_test_results(fp , df)"
   ]
  },
  {
   "cell_type": "code",
   "execution_count": null,
   "metadata": {},
   "outputs": [],
   "source": [
    "test_drcif, drcif_objects = get_test_results(drcif, df)"
   ]
  },
  {
   "cell_type": "code",
   "execution_count": 21,
   "metadata": {},
   "outputs": [
    {
     "name": "stdout",
     "output_type": "stream",
     "text": [
      "Testing machine-wise split\n",
      "Testing time-wise split\n",
      "Testing operation-wise split\n"
     ]
    }
   ],
   "source": [
    "test_stc, stc_objects = get_test_results(stc, df)"
   ]
  },
  {
   "cell_type": "code",
   "execution_count": 22,
   "metadata": {},
   "outputs": [
    {
     "name": "stdout",
     "output_type": "stream",
     "text": [
      "Testing machine-wise split\n",
      "Testing time-wise split\n",
      "Testing operation-wise split\n"
     ]
    }
   ],
   "source": [
    "test_tde, tde_objects = get_test_results(tde, df)"
   ]
  },
  {
   "cell_type": "code",
   "execution_count": 103,
   "metadata": {},
   "outputs": [
    {
     "name": "stdout",
     "output_type": "stream",
     "text": [
      "Testing machine-wise split\n",
      "Testing time-wise split\n",
      "Testing operation-wise split\n"
     ]
    }
   ],
   "source": [
    "test_mr, mr_objects = get_test_results(mr, df)"
   ]
  },
  {
   "cell_type": "code",
   "execution_count": 78,
   "metadata": {},
   "outputs": [
    {
     "name": "stdout",
     "output_type": "stream",
     "text": [
      "Testing machine-wise split\n",
      "Testing time-wise split\n",
      "Testing operation-wise split\n"
     ]
    }
   ],
   "source": [
    "test_mr_baseline, mr_baseline_objects = get_test_results(mr_baseline, df)"
   ]
  },
  {
   "cell_type": "code",
   "execution_count": 25,
   "metadata": {},
   "outputs": [
    {
     "name": "stdout",
     "output_type": "stream",
     "text": [
      "Testing machine-wise split\n"
     ]
    },
    {
     "name": "stderr",
     "output_type": "stream",
     "text": [
      "2024-12-02 18:59:52.145837: I tensorflow/core/util/port.cc:153] oneDNN custom operations are on. You may see slightly different numerical results due to floating-point round-off errors from different computation orders. To turn them off, set the environment variable `TF_ENABLE_ONEDNN_OPTS=0`.\n",
      "2024-12-02 18:59:52.364003: E external/local_xla/xla/stream_executor/cuda/cuda_fft.cc:477] Unable to register cuFFT factory: Attempting to register factory for plugin cuFFT when one has already been registered\n",
      "WARNING: All log messages before absl::InitializeLog() is called are written to STDERR\n",
      "E0000 00:00:1733162392.440657  471862 cuda_dnn.cc:8310] Unable to register cuDNN factory: Attempting to register factory for plugin cuDNN when one has already been registered\n",
      "E0000 00:00:1733162392.461732  471862 cuda_blas.cc:1418] Unable to register cuBLAS factory: Attempting to register factory for plugin cuBLAS when one has already been registered\n",
      "2024-12-02 18:59:52.641959: I tensorflow/core/platform/cpu_feature_guard.cc:210] This TensorFlow binary is optimized to use available CPU instructions in performance-critical operations.\n",
      "To enable the following instructions: AVX2 AVX512F AVX512_VNNI FMA, in other operations, rebuild TensorFlow with the appropriate compiler flags.\n",
      "I0000 00:00:1733162395.512578  471862 gpu_device.cc:2022] Created device /job:localhost/replica:0/task:0/device:GPU:0 with 1765 MB memory:  -> device: 0, name: NVIDIA GeForce RTX 3050 Laptop GPU, pci bus id: 0000:01:00.0, compute capability: 8.6\n",
      "WARNING: All log messages before absl::InitializeLog() is called are written to STDERR\n",
      "I0000 00:00:1733162399.373900  580450 service.cc:148] XLA service 0x7f5a18029b30 initialized for platform CUDA (this does not guarantee that XLA will be used). Devices:\n",
      "I0000 00:00:1733162399.374327  580450 service.cc:156]   StreamExecutor device (0): NVIDIA GeForce RTX 3050 Laptop GPU, Compute Capability 8.6\n",
      "2024-12-02 18:59:59.506387: I tensorflow/compiler/mlir/tensorflow/utils/dump_mlir_util.cc:268] disabling MLIR crash reproducer, set env var `MLIR_CRASH_REPRODUCER_DIRECTORY` to enable.\n",
      "I0000 00:00:1733162400.071595  580450 cuda_dnn.cc:529] Loaded cuDNN version 90501\n",
      "I0000 00:00:1733162409.025967  580450 device_compiler.h:188] Compiled cluster using XLA!  This line is logged at most once for the lifetime of the process.\n"
     ]
    },
    {
     "name": "stdout",
     "output_type": "stream",
     "text": [
      "\u001b[1m22/22\u001b[0m \u001b[32m━━━━━━━━━━━━━━━━━━━━\u001b[0m\u001b[37m\u001b[0m \u001b[1m2s\u001b[0m 75ms/step\n",
      "\u001b[1m85/85\u001b[0m \u001b[32m━━━━━━━━━━━━━━━━━━━━\u001b[0m\u001b[37m\u001b[0m \u001b[1m4s\u001b[0m 52ms/step\n",
      "Testing time-wise split\n",
      "\u001b[1m24/24\u001b[0m \u001b[32m━━━━━━━━━━━━━━━━━━━━\u001b[0m\u001b[37m\u001b[0m \u001b[1m2s\u001b[0m 66ms/step\n",
      "\u001b[1m84/84\u001b[0m \u001b[32m━━━━━━━━━━━━━━━━━━━━\u001b[0m\u001b[37m\u001b[0m \u001b[1m4s\u001b[0m 47ms/step\n",
      "Testing operation-wise split\n",
      "\u001b[1m22/22\u001b[0m \u001b[32m━━━━━━━━━━━━━━━━━━━━\u001b[0m\u001b[37m\u001b[0m \u001b[1m2s\u001b[0m 74ms/step\n",
      "\u001b[1m86/86\u001b[0m \u001b[32m━━━━━━━━━━━━━━━━━━━━\u001b[0m\u001b[37m\u001b[0m \u001b[1m4s\u001b[0m 43ms/step\n"
     ]
    }
   ],
   "source": [
    "test_itc, itc_objects = get_test_results(itc, df)"
   ]
  },
  {
   "cell_type": "code",
   "execution_count": 26,
   "metadata": {},
   "outputs": [],
   "source": [
    "results = pd.DataFrame(\n",
    "    (\n",
    "        test_fp[\"model_f1\"],\n",
    "        test_drcif[\"model_f1\"], \n",
    "        test_stc[\"model_f1\"],\n",
    "        test_tde[\"model_f1\"],\n",
    "        test_mr[\"model_f1\"],\n",
    "        test_mr_baseline[\"model_f1\"],\n",
    "        test_itc[\"model_f1\"] \n",
    "    )\n",
    ")\n",
    "results[\"model\"] = [\"FreshPRINCE\", \"DrCIF\", \"STC\", \"TDE\", \"MR\", \"MR-B\", \"ITC\"]\n",
    "results = results.set_index(\"model\")\n",
    "results = results.rename(columns = {0: \"machine\", 1 : \"time\", 2: \"operation\"})\n",
    "results[\"avg\"] = results.mean(axis = 1)"
   ]
  },
  {
   "cell_type": "code",
   "execution_count": 27,
   "metadata": {},
   "outputs": [],
   "source": [
    "results_recall = pd.DataFrame(\n",
    "    (\n",
    "        test_fp[\"model_recall\"],\n",
    "        test_drcif[\"model_recall\"], \n",
    "        test_stc[\"model_recall\"],\n",
    "        test_tde[\"model_recall\"],\n",
    "        test_mr[\"model_recall\"],\n",
    "        test_mr_baseline[\"model_recall\"],\n",
    "        test_itc[\"model_recall\"]\n",
    "    )\n",
    ")\n",
    "results_recall[\"model\"] = [\"FreshPRINCE\", \"DrCIF\", \"STC\", \"TDE\", \"MR\", \"MR-B\", \"ITC\"]\n",
    "results_recall = results_recall.set_index(\"model\")\n",
    "results_recall = results_recall.rename(columns = {0: \"machine\", 1 : \"time\", 2: \"operation\"})\n",
    "results_recall[\"avg\"] = results_recall.mean(axis = 1)"
   ]
  },
  {
   "cell_type": "code",
   "execution_count": 31,
   "metadata": {},
   "outputs": [
    {
     "data": {
      "text/html": [
       "<div>\n",
       "<style scoped>\n",
       "    .dataframe tbody tr th:only-of-type {\n",
       "        vertical-align: middle;\n",
       "    }\n",
       "\n",
       "    .dataframe tbody tr th {\n",
       "        vertical-align: top;\n",
       "    }\n",
       "\n",
       "    .dataframe thead th {\n",
       "        text-align: right;\n",
       "    }\n",
       "</style>\n",
       "<table border=\"1\" class=\"dataframe\">\n",
       "  <thead>\n",
       "    <tr style=\"text-align: right;\">\n",
       "      <th></th>\n",
       "      <th>machine</th>\n",
       "      <th>time</th>\n",
       "      <th>operation</th>\n",
       "      <th>avg</th>\n",
       "    </tr>\n",
       "    <tr>\n",
       "      <th>model</th>\n",
       "      <th></th>\n",
       "      <th></th>\n",
       "      <th></th>\n",
       "      <th></th>\n",
       "    </tr>\n",
       "  </thead>\n",
       "  <tbody>\n",
       "    <tr>\n",
       "      <th>FreshPRINCE</th>\n",
       "      <td>0.970874</td>\n",
       "      <td>0.981481</td>\n",
       "      <td>0.971429</td>\n",
       "      <td>0.974595</td>\n",
       "    </tr>\n",
       "    <tr>\n",
       "      <th>DrCIF</th>\n",
       "      <td>0.980392</td>\n",
       "      <td>0.971963</td>\n",
       "      <td>0.951456</td>\n",
       "      <td>0.967937</td>\n",
       "    </tr>\n",
       "    <tr>\n",
       "      <th>STC</th>\n",
       "      <td>0.865979</td>\n",
       "      <td>0.915888</td>\n",
       "      <td>0.927273</td>\n",
       "      <td>0.903047</td>\n",
       "    </tr>\n",
       "    <tr>\n",
       "      <th>TDE</th>\n",
       "      <td>0.970874</td>\n",
       "      <td>0.971963</td>\n",
       "      <td>0.872727</td>\n",
       "      <td>0.938521</td>\n",
       "    </tr>\n",
       "    <tr>\n",
       "      <th>MR</th>\n",
       "      <td>0.074074</td>\n",
       "      <td>0.000000</td>\n",
       "      <td>0.000000</td>\n",
       "      <td>0.024691</td>\n",
       "    </tr>\n",
       "    <tr>\n",
       "      <th>MR-B</th>\n",
       "      <td>0.970874</td>\n",
       "      <td>0.981481</td>\n",
       "      <td>0.981132</td>\n",
       "      <td>0.977829</td>\n",
       "    </tr>\n",
       "    <tr>\n",
       "      <th>ITC</th>\n",
       "      <td>0.980392</td>\n",
       "      <td>0.971963</td>\n",
       "      <td>0.962264</td>\n",
       "      <td>0.971540</td>\n",
       "    </tr>\n",
       "  </tbody>\n",
       "</table>\n",
       "</div>"
      ],
      "text/plain": [
       "              machine      time  operation       avg\n",
       "model                                               \n",
       "FreshPRINCE  0.970874  0.981481   0.971429  0.974595\n",
       "DrCIF        0.980392  0.971963   0.951456  0.967937\n",
       "STC          0.865979  0.915888   0.927273  0.903047\n",
       "TDE          0.970874  0.971963   0.872727  0.938521\n",
       "MR           0.074074  0.000000   0.000000  0.024691\n",
       "MR-B         0.970874  0.981481   0.981132  0.977829\n",
       "ITC          0.980392  0.971963   0.962264  0.971540"
      ]
     },
     "execution_count": 31,
     "metadata": {},
     "output_type": "execute_result"
    }
   ],
   "source": [
    "results"
   ]
  },
  {
   "cell_type": "code",
   "execution_count": 29,
   "metadata": {},
   "outputs": [
    {
     "data": {
      "text/html": [
       "<div>\n",
       "<style scoped>\n",
       "    .dataframe tbody tr th:only-of-type {\n",
       "        vertical-align: middle;\n",
       "    }\n",
       "\n",
       "    .dataframe tbody tr th {\n",
       "        vertical-align: top;\n",
       "    }\n",
       "\n",
       "    .dataframe thead th {\n",
       "        text-align: right;\n",
       "    }\n",
       "</style>\n",
       "<table border=\"1\" class=\"dataframe\">\n",
       "  <thead>\n",
       "    <tr style=\"text-align: right;\">\n",
       "      <th></th>\n",
       "      <th>machine</th>\n",
       "      <th>time</th>\n",
       "      <th>operation</th>\n",
       "      <th>avg</th>\n",
       "    </tr>\n",
       "    <tr>\n",
       "      <th>model</th>\n",
       "      <th></th>\n",
       "      <th></th>\n",
       "      <th></th>\n",
       "      <th></th>\n",
       "    </tr>\n",
       "  </thead>\n",
       "  <tbody>\n",
       "    <tr>\n",
       "      <th>FreshPRINCE</th>\n",
       "      <td>0.961538</td>\n",
       "      <td>0.963636</td>\n",
       "      <td>0.944444</td>\n",
       "      <td>0.956540</td>\n",
       "    </tr>\n",
       "    <tr>\n",
       "      <th>DrCIF</th>\n",
       "      <td>0.961538</td>\n",
       "      <td>0.945455</td>\n",
       "      <td>0.907407</td>\n",
       "      <td>0.938133</td>\n",
       "    </tr>\n",
       "    <tr>\n",
       "      <th>STC</th>\n",
       "      <td>0.807692</td>\n",
       "      <td>0.890909</td>\n",
       "      <td>0.944444</td>\n",
       "      <td>0.881015</td>\n",
       "    </tr>\n",
       "    <tr>\n",
       "      <th>TDE</th>\n",
       "      <td>0.961538</td>\n",
       "      <td>0.945455</td>\n",
       "      <td>0.888889</td>\n",
       "      <td>0.931961</td>\n",
       "    </tr>\n",
       "    <tr>\n",
       "      <th>MR</th>\n",
       "      <td>0.038462</td>\n",
       "      <td>0.000000</td>\n",
       "      <td>0.000000</td>\n",
       "      <td>0.012821</td>\n",
       "    </tr>\n",
       "    <tr>\n",
       "      <th>MR-B</th>\n",
       "      <td>0.961538</td>\n",
       "      <td>0.963636</td>\n",
       "      <td>0.962963</td>\n",
       "      <td>0.962713</td>\n",
       "    </tr>\n",
       "    <tr>\n",
       "      <th>ITC</th>\n",
       "      <td>0.961538</td>\n",
       "      <td>0.945455</td>\n",
       "      <td>0.944444</td>\n",
       "      <td>0.950479</td>\n",
       "    </tr>\n",
       "  </tbody>\n",
       "</table>\n",
       "</div>"
      ],
      "text/plain": [
       "              machine      time  operation       avg\n",
       "model                                               \n",
       "FreshPRINCE  0.961538  0.963636   0.944444  0.956540\n",
       "DrCIF        0.961538  0.945455   0.907407  0.938133\n",
       "STC          0.807692  0.890909   0.944444  0.881015\n",
       "TDE          0.961538  0.945455   0.888889  0.931961\n",
       "MR           0.038462  0.000000   0.000000  0.012821\n",
       "MR-B         0.961538  0.963636   0.962963  0.962713\n",
       "ITC          0.961538  0.945455   0.944444  0.950479"
      ]
     },
     "execution_count": 29,
     "metadata": {},
     "output_type": "execute_result"
    }
   ],
   "source": [
    "results_recall"
   ]
  },
  {
   "cell_type": "code",
   "execution_count": 104,
   "metadata": {},
   "outputs": [],
   "source": [
    "MODELS = [test_fp, test_drcif, test_stc, test_tde, test_mr, test_mr_baseline, test_itc]\n",
    "modelnames = [\"fp\", \"drcif\", \"stc\", \"tde\", \"mr\", \"mr_b\", \"itc\"]\n",
    "for model, name in zip(MODELS, modelnames):\n",
    "    filename = f\"test_results/{name}_test.pkl\"\n",
    "    with open(filename, \"wb\") as f: \n",
    "        pickle.dump(model, f)"
   ]
  }
 ],
 "metadata": {
  "kernelspec": {
   "display_name": "Python 3 (ipykernel)",
   "language": "python",
   "name": "python3"
  },
  "language_info": {
   "codemirror_mode": {
    "name": "ipython",
    "version": 3
   },
   "file_extension": ".py",
   "mimetype": "text/x-python",
   "name": "python",
   "nbconvert_exporter": "python",
   "pygments_lexer": "ipython3",
   "version": "3.12.3"
  }
 },
 "nbformat": 4,
 "nbformat_minor": 4
}
